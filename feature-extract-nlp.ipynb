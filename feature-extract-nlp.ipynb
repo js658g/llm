train['char_count'] = train['tweet'].str.len() ## this also includes spaces
train[['tweet','char_count']].head()
