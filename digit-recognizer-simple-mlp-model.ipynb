{
 "cells": [
  {
   "cell_type": "markdown",
   "id": "ba10bb23",
   "metadata": {
    "papermill": {
     "duration": 0.005903,
     "end_time": "2025-04-02T10:49:06.719547",
     "exception": false,
     "start_time": "2025-04-02T10:49:06.713644",
     "status": "completed"
    },
    "tags": []
   },
   "source": [
    "# General infos\n",
    "\n",
    "In this Notebook, I'm gonna use MLP (Multi-layer perceptrons), but it is not the best model. I'm gonna use this since this Notebook is only a first look in this type of problems and complex analysis will not be applied. The mission of this paper is to make a basic model with good accuracy (96-98%)"
   ]
  },
  {
   "cell_type": "markdown",
   "id": "5a7ff99d",
   "metadata": {
    "papermill": {
     "duration": 0.004961,
     "end_time": "2025-04-02T10:49:06.729864",
     "exception": false,
     "start_time": "2025-04-02T10:49:06.724903",
     "status": "completed"
    },
    "tags": []
   },
   "source": [
    "# Logistic regression\n",
    "\n",
    "Before trying to use more complex methods like Neural networks, let see if it's necessary, so I will try first using Logistic Regression"
   ]
  },
  {
   "cell_type": "markdown",
   "id": "2d029bf0",
   "metadata": {
    "papermill": {
     "duration": 0.004952,
     "end_time": "2025-04-02T10:49:06.740039",
     "exception": false,
     "start_time": "2025-04-02T10:49:06.735087",
     "status": "completed"
    },
    "tags": []
   },
   "source": [
    "## Load datas"
   ]
  },
  {
   "cell_type": "code",
   "execution_count": 1,
   "id": "6dccfacb",
   "metadata": {
    "_cell_guid": "b1076dfc-b9ad-4769-8c92-a6c4dae69d19",
    "_uuid": "8f2839f25d086af736a60e9eeb907d3b93b6e0e5",
    "execution": {
     "iopub.execute_input": "2025-04-02T10:49:06.751671Z",
     "iopub.status.busy": "2025-04-02T10:49:06.751348Z",
     "iopub.status.idle": "2025-04-02T10:49:11.397110Z",
     "shell.execute_reply": "2025-04-02T10:49:11.395923Z"
    },
    "papermill": {
     "duration": 4.653534,
     "end_time": "2025-04-02T10:49:11.398792",
     "exception": false,
     "start_time": "2025-04-02T10:49:06.745258",
     "status": "completed"
    },
    "tags": []
   },
   "outputs": [
    {
     "data": {
      "text/html": [
       "<div>\n",
       "<style scoped>\n",
       "    .dataframe tbody tr th:only-of-type {\n",
       "        vertical-align: middle;\n",
       "    }\n",
       "\n",
       "    .dataframe tbody tr th {\n",
       "        vertical-align: top;\n",
       "    }\n",
       "\n",
       "    .dataframe thead th {\n",
       "        text-align: right;\n",
       "    }\n",
       "</style>\n",
       "<table border=\"1\" class=\"dataframe\">\n",
       "  <thead>\n",
       "    <tr style=\"text-align: right;\">\n",
       "      <th></th>\n",
       "      <th>label</th>\n",
       "      <th>pixel0</th>\n",
       "      <th>pixel1</th>\n",
       "      <th>pixel2</th>\n",
       "      <th>pixel3</th>\n",
       "      <th>pixel4</th>\n",
       "      <th>pixel5</th>\n",
       "      <th>pixel6</th>\n",
       "      <th>pixel7</th>\n",
       "      <th>pixel8</th>\n",
       "      <th>...</th>\n",
       "      <th>pixel774</th>\n",
       "      <th>pixel775</th>\n",
       "      <th>pixel776</th>\n",
       "      <th>pixel777</th>\n",
       "      <th>pixel778</th>\n",
       "      <th>pixel779</th>\n",
       "      <th>pixel780</th>\n",
       "      <th>pixel781</th>\n",
       "      <th>pixel782</th>\n",
       "      <th>pixel783</th>\n",
       "    </tr>\n",
       "  </thead>\n",
       "  <tbody>\n",
       "    <tr>\n",
       "      <th>0</th>\n",
       "      <td>1</td>\n",
       "      <td>0</td>\n",
       "      <td>0</td>\n",
       "      <td>0</td>\n",
       "      <td>0</td>\n",
       "      <td>0</td>\n",
       "      <td>0</td>\n",
       "      <td>0</td>\n",
       "      <td>0</td>\n",
       "      <td>0</td>\n",
       "      <td>...</td>\n",
       "      <td>0</td>\n",
       "      <td>0</td>\n",
       "      <td>0</td>\n",
       "      <td>0</td>\n",
       "      <td>0</td>\n",
       "      <td>0</td>\n",
       "      <td>0</td>\n",
       "      <td>0</td>\n",
       "      <td>0</td>\n",
       "      <td>0</td>\n",
       "    </tr>\n",
       "    <tr>\n",
       "      <th>1</th>\n",
       "      <td>0</td>\n",
       "      <td>0</td>\n",
       "      <td>0</td>\n",
       "      <td>0</td>\n",
       "      <td>0</td>\n",
       "      <td>0</td>\n",
       "      <td>0</td>\n",
       "      <td>0</td>\n",
       "      <td>0</td>\n",
       "      <td>0</td>\n",
       "      <td>...</td>\n",
       "      <td>0</td>\n",
       "      <td>0</td>\n",
       "      <td>0</td>\n",
       "      <td>0</td>\n",
       "      <td>0</td>\n",
       "      <td>0</td>\n",
       "      <td>0</td>\n",
       "      <td>0</td>\n",
       "      <td>0</td>\n",
       "      <td>0</td>\n",
       "    </tr>\n",
       "    <tr>\n",
       "      <th>2</th>\n",
       "      <td>1</td>\n",
       "      <td>0</td>\n",
       "      <td>0</td>\n",
       "      <td>0</td>\n",
       "      <td>0</td>\n",
       "      <td>0</td>\n",
       "      <td>0</td>\n",
       "      <td>0</td>\n",
       "      <td>0</td>\n",
       "      <td>0</td>\n",
       "      <td>...</td>\n",
       "      <td>0</td>\n",
       "      <td>0</td>\n",
       "      <td>0</td>\n",
       "      <td>0</td>\n",
       "      <td>0</td>\n",
       "      <td>0</td>\n",
       "      <td>0</td>\n",
       "      <td>0</td>\n",
       "      <td>0</td>\n",
       "      <td>0</td>\n",
       "    </tr>\n",
       "    <tr>\n",
       "      <th>3</th>\n",
       "      <td>4</td>\n",
       "      <td>0</td>\n",
       "      <td>0</td>\n",
       "      <td>0</td>\n",
       "      <td>0</td>\n",
       "      <td>0</td>\n",
       "      <td>0</td>\n",
       "      <td>0</td>\n",
       "      <td>0</td>\n",
       "      <td>0</td>\n",
       "      <td>...</td>\n",
       "      <td>0</td>\n",
       "      <td>0</td>\n",
       "      <td>0</td>\n",
       "      <td>0</td>\n",
       "      <td>0</td>\n",
       "      <td>0</td>\n",
       "      <td>0</td>\n",
       "      <td>0</td>\n",
       "      <td>0</td>\n",
       "      <td>0</td>\n",
       "    </tr>\n",
       "    <tr>\n",
       "      <th>4</th>\n",
       "      <td>0</td>\n",
       "      <td>0</td>\n",
       "      <td>0</td>\n",
       "      <td>0</td>\n",
       "      <td>0</td>\n",
       "      <td>0</td>\n",
       "      <td>0</td>\n",
       "      <td>0</td>\n",
       "      <td>0</td>\n",
       "      <td>0</td>\n",
       "      <td>...</td>\n",
       "      <td>0</td>\n",
       "      <td>0</td>\n",
       "      <td>0</td>\n",
       "      <td>0</td>\n",
       "      <td>0</td>\n",
       "      <td>0</td>\n",
       "      <td>0</td>\n",
       "      <td>0</td>\n",
       "      <td>0</td>\n",
       "      <td>0</td>\n",
       "    </tr>\n",
       "  </tbody>\n",
       "</table>\n",
       "<p>5 rows × 785 columns</p>\n",
       "</div>"
      ],
      "text/plain": [
       "   label  pixel0  pixel1  pixel2  pixel3  pixel4  pixel5  pixel6  pixel7  \\\n",
       "0      1       0       0       0       0       0       0       0       0   \n",
       "1      0       0       0       0       0       0       0       0       0   \n",
       "2      1       0       0       0       0       0       0       0       0   \n",
       "3      4       0       0       0       0       0       0       0       0   \n",
       "4      0       0       0       0       0       0       0       0       0   \n",
       "\n",
       "   pixel8  ...  pixel774  pixel775  pixel776  pixel777  pixel778  pixel779  \\\n",
       "0       0  ...         0         0         0         0         0         0   \n",
       "1       0  ...         0         0         0         0         0         0   \n",
       "2       0  ...         0         0         0         0         0         0   \n",
       "3       0  ...         0         0         0         0         0         0   \n",
       "4       0  ...         0         0         0         0         0         0   \n",
       "\n",
       "   pixel780  pixel781  pixel782  pixel783  \n",
       "0         0         0         0         0  \n",
       "1         0         0         0         0  \n",
       "2         0         0         0         0  \n",
       "3         0         0         0         0  \n",
       "4         0         0         0         0  \n",
       "\n",
       "[5 rows x 785 columns]"
      ]
     },
     "execution_count": 1,
     "metadata": {},
     "output_type": "execute_result"
    }
   ],
   "source": [
    "import pandas as pd\n",
    "\n",
    "path = '/kaggle/input/digit-recognizer/'\n",
    "digits = pd.read_csv(path+'train.csv')\n",
    "\n",
    "X = digits.drop('label', axis=1).values\n",
    "Y = digits['label'].values\n",
    "\n",
    "digits.head()"
   ]
  },
  {
   "cell_type": "markdown",
   "id": "f1e15ac0",
   "metadata": {
    "papermill": {
     "duration": 0.005838,
     "end_time": "2025-04-02T10:49:11.410705",
     "exception": false,
     "start_time": "2025-04-02T10:49:11.404867",
     "status": "completed"
    },
    "tags": []
   },
   "source": [
    "Pics are 28x28 splitted in 783 pixels. For better understanding, I'm gonna show the first 10 samples as pics"
   ]
  },
  {
   "cell_type": "code",
   "execution_count": 2,
   "id": "49a07243",
   "metadata": {
    "collapsed": true,
    "execution": {
     "iopub.execute_input": "2025-04-02T10:49:11.423593Z",
     "iopub.status.busy": "2025-04-02T10:49:11.423248Z",
     "iopub.status.idle": "2025-04-02T10:49:13.434936Z",
     "shell.execute_reply": "2025-04-02T10:49:13.433695Z"
    },
    "jupyter": {
     "outputs_hidden": true
    },
    "papermill": {
     "duration": 2.020149,
     "end_time": "2025-04-02T10:49:13.436696",
     "exception": false,
     "start_time": "2025-04-02T10:49:11.416547",
     "status": "completed"
    },
    "tags": []
   },
   "outputs": [
    {
     "data": {
      "image/png": "[encoded data removed]",
      "text/plain": [
       "<Figure size 640x480 with 1 Axes>"
      ]
     },
     "metadata": {},
     "output_type": "display_data"
    },
    {
     "data": {
      "image/png": "[encoded data removed]",
      "text/plain": [
       "<Figure size 640x480 with 1 Axes>"
      ]
     },
     "metadata": {},
     "output_type": "display_data"
    },
    {
     "data": {
      "image/png": "[encoded data removed]",
      "text/plain": [
       "<Figure size 640x480 with 1 Axes>"
      ]
     },
     "metadata": {},
     "output_type": "display_data"
    },
    {
     "data": {
      "image/png": "[encoded data removed]",
      "text/plain": [
       "<Figure size 640x480 with 1 Axes>"
      ]
     },
     "metadata": {},
     "output_type": "display_data"
    },
    {
     "data": {
      "image/png": "[encoded data removed]",
      "text/plain": [
       "<Figure size 640x480 with 1 Axes>"
      ]
     },
     "metadata": {},
     "output_type": "display_data"
    },
    {
     "data": {
      "image/png": "[encoded data removed]",
      "text/plain": [
       "<Figure size 640x480 with 1 Axes>"
      ]
     },
     "metadata": {},
     "output_type": "display_data"
    },
    {
     "data": {
      "image/png": "[encoded data removed]",
      "text/plain": [
       "<Figure size 640x480 with 1 Axes>"
      ]
     },
     "metadata": {},
     "output_type": "display_data"
    },
    {
     "data": {
      "image/png": "[encoded data removed]",
      "text/plain": [
       "<Figure size 640x480 with 1 Axes>"
      ]
     },
     "metadata": {},
     "output_type": "display_data"
    },
    {
     "data": {
      "image/png": "[encoded data removed]",
      "text/plain": [
       "<Figure size 640x480 with 1 Axes>"
      ]
     },
     "metadata": {},
     "output_type": "display_data"
    },
    {
     "data": {
      "image/png": "[encoded data removed]",
      "text/plain": [
       "<Figure size 640x480 with 1 Axes>"
      ]
     },
     "metadata": {},
     "output_type": "display_data"
    }
   ],
   "source": [
    "import matplotlib.pyplot as plt\n",
    "\n",
    "for i in range(0,10):\n",
    "    pic_matrix = X[Y==i][0].reshape(28,28)\n",
    "    plt.imshow(pic_matrix, cmap='gray')\n",
    "    plt.show()"
   ]
  },
  {
   "cell_type": "markdown",
   "id": "02840d5a",
   "metadata": {
    "papermill": {
     "duration": 0.007738,
     "end_time": "2025-04-02T10:49:13.452623",
     "exception": false,
     "start_time": "2025-04-02T10:49:13.444885",
     "status": "completed"
    },
    "tags": []
   },
   "source": [
    "# Normalization\n",
    "\n",
    "Because every pixel have a value between 0-255, it's a good practice to normalize datas to 0-1.\n",
    "I'm gonna do it in splitted datasets. Since the original dataset is small (less than 10000 samples), I'm gonna use 30% of that as test set"
   ]
  },
  {
   "cell_type": "code",
   "execution_count": 3,
   "id": "e9e817f2",
   "metadata": {
    "execution": {
     "iopub.execute_input": "2025-04-02T10:49:13.470531Z",
     "iopub.status.busy": "2025-04-02T10:49:13.470189Z",
     "iopub.status.idle": "2025-04-02T10:49:16.220793Z",
     "shell.execute_reply": "2025-04-02T10:49:16.219446Z"
    },
    "papermill": {
     "duration": 2.762376,
     "end_time": "2025-04-02T10:49:16.223200",
     "exception": false,
     "start_time": "2025-04-02T10:49:13.460824",
     "status": "completed"
    },
    "tags": []
   },
   "outputs": [],
   "source": [
    "from sklearn.model_selection import train_test_split\n",
    "\n",
    "X_train, X_test, Y_train, Y_test = train_test_split(X,Y, test_size=0.3)\n",
    "\n",
    "from sklearn.preprocessing import MinMaxScaler\n",
    "\n",
    "mms = MinMaxScaler()\n",
    "X_train = mms.fit_transform(X_train)\n",
    "X_test = mms.transform(X_test)"
   ]
  },
  {
   "cell_type": "markdown",
   "id": "43fe125c",
   "metadata": {
    "papermill": {
     "duration": 0.007921,
     "end_time": "2025-04-02T10:49:16.241207",
     "exception": false,
     "start_time": "2025-04-02T10:49:16.233286",
     "status": "completed"
    },
    "tags": []
   },
   "source": [
    "## Model"
   ]
  },
  {
   "cell_type": "code",
   "execution_count": 4,
   "id": "1f456000",
   "metadata": {
    "execution": {
     "iopub.execute_input": "2025-04-02T10:49:16.259264Z",
     "iopub.status.busy": "2025-04-02T10:49:16.258701Z",
     "iopub.status.idle": "2025-04-02T10:49:47.617549Z",
     "shell.execute_reply": "2025-04-02T10:49:47.616383Z"
    },
    "papermill": {
     "duration": 31.38051,
     "end_time": "2025-04-02T10:49:47.629766",
     "exception": false,
     "start_time": "2025-04-02T10:49:16.249256",
     "status": "completed"
    },
    "tags": []
   },
   "outputs": [
    {
     "name": "stdout",
     "output_type": "stream",
     "text": [
      "0.9125396825396825\n",
      "0.32379667333802925\n"
     ]
    },
    {
     "name": "stderr",
     "output_type": "stream",
     "text": [
      "/usr/local/lib/python3.10/dist-packages/sklearn/linear_model/_logistic.py:458: ConvergenceWarning: lbfgs failed to converge (status=1):\n",
      "STOP: TOTAL NO. of ITERATIONS REACHED LIMIT.\n",
      "\n",
      "Increase the number of iterations (max_iter) or scale the data as shown in:\n",
      "    https://scikit-learn.org/stable/modules/preprocessing.html\n",
      "Please also refer to the documentation for alternative solver options:\n",
      "    https://scikit-learn.org/stable/modules/linear_model.html#logistic-regression\n",
      "  n_iter_i = _check_optimize_result(\n"
     ]
    }
   ],
   "source": [
    "from sklearn.linear_model import LogisticRegression\n",
    "from sklearn.metrics import accuracy_score\n",
    "from sklearn.metrics import log_loss\n",
    "\n",
    "lr = LogisticRegression(max_iter=500)\n",
    "\n",
    "lr.fit(X_train, Y_train)\n",
    "Y_pred = lr.predict(X_test)\n",
    "Y_proba = lr.predict_proba(X_test)\n",
    "acc = accuracy_score(Y_test, Y_pred)\n",
    "log = log_loss(Y_test, Y_proba)\n",
    "\n",
    "print(acc)\n",
    "print(log)"
   ]
  },
  {
   "cell_type": "markdown",
   "id": "3818e664",
   "metadata": {
    "papermill": {
     "duration": 0.008082,
     "end_time": "2025-04-02T10:49:47.647176",
     "exception": false,
     "start_time": "2025-04-02T10:49:47.639094",
     "status": "completed"
    },
    "tags": []
   },
   "source": [
    "We can see that Accuracy is good, but Log loss is too high. Neural networks are needed"
   ]
  },
  {
   "cell_type": "markdown",
   "id": "8d20a5f2",
   "metadata": {
    "papermill": {
     "duration": 0.007874,
     "end_time": "2025-04-02T10:49:47.664210",
     "exception": false,
     "start_time": "2025-04-02T10:49:47.656336",
     "status": "completed"
    },
    "tags": []
   },
   "source": [
    "# Neural Networks"
   ]
  },
  {
   "cell_type": "markdown",
   "id": "c9fd7557",
   "metadata": {
    "papermill": {
     "duration": 0.008381,
     "end_time": "2025-04-02T10:49:47.680991",
     "exception": false,
     "start_time": "2025-04-02T10:49:47.672610",
     "status": "completed"
    },
    "tags": []
   },
   "source": [
    "## Load datas"
   ]
  },
  {
   "cell_type": "code",
   "execution_count": 5,
   "id": "5a3702d8",
   "metadata": {
    "execution": {
     "iopub.execute_input": "2025-04-02T10:49:47.699781Z",
     "iopub.status.busy": "2025-04-02T10:49:47.699419Z",
     "iopub.status.idle": "2025-04-02T10:49:50.081850Z",
     "shell.execute_reply": "2025-04-02T10:49:50.080693Z"
    },
    "papermill": {
     "duration": 2.393547,
     "end_time": "2025-04-02T10:49:50.083563",
     "exception": false,
     "start_time": "2025-04-02T10:49:47.690016",
     "status": "completed"
    },
    "tags": []
   },
   "outputs": [
    {
     "data": {
      "text/html": [
       "<div>\n",
       "<style scoped>\n",
       "    .dataframe tbody tr th:only-of-type {\n",
       "        vertical-align: middle;\n",
       "    }\n",
       "\n",
       "    .dataframe tbody tr th {\n",
       "        vertical-align: top;\n",
       "    }\n",
       "\n",
       "    .dataframe thead th {\n",
       "        text-align: right;\n",
       "    }\n",
       "</style>\n",
       "<table border=\"1\" class=\"dataframe\">\n",
       "  <thead>\n",
       "    <tr style=\"text-align: right;\">\n",
       "      <th></th>\n",
       "      <th>label</th>\n",
       "      <th>pixel0</th>\n",
       "      <th>pixel1</th>\n",
       "      <th>pixel2</th>\n",
       "      <th>pixel3</th>\n",
       "      <th>pixel4</th>\n",
       "      <th>pixel5</th>\n",
       "      <th>pixel6</th>\n",
       "      <th>pixel7</th>\n",
       "      <th>pixel8</th>\n",
       "      <th>...</th>\n",
       "      <th>pixel774</th>\n",
       "      <th>pixel775</th>\n",
       "      <th>pixel776</th>\n",
       "      <th>pixel777</th>\n",
       "      <th>pixel778</th>\n",
       "      <th>pixel779</th>\n",
       "      <th>pixel780</th>\n",
       "      <th>pixel781</th>\n",
       "      <th>pixel782</th>\n",
       "      <th>pixel783</th>\n",
       "    </tr>\n",
       "  </thead>\n",
       "  <tbody>\n",
       "    <tr>\n",
       "      <th>0</th>\n",
       "      <td>1</td>\n",
       "      <td>0</td>\n",
       "      <td>0</td>\n",
       "      <td>0</td>\n",
       "      <td>0</td>\n",
       "      <td>0</td>\n",
       "      <td>0</td>\n",
       "      <td>0</td>\n",
       "      <td>0</td>\n",
       "      <td>0</td>\n",
       "      <td>...</td>\n",
       "      <td>0</td>\n",
       "      <td>0</td>\n",
       "      <td>0</td>\n",
       "      <td>0</td>\n",
       "      <td>0</td>\n",
       "      <td>0</td>\n",
       "      <td>0</td>\n",
       "      <td>0</td>\n",
       "      <td>0</td>\n",
       "      <td>0</td>\n",
       "    </tr>\n",
       "    <tr>\n",
       "      <th>1</th>\n",
       "      <td>0</td>\n",
       "      <td>0</td>\n",
       "      <td>0</td>\n",
       "      <td>0</td>\n",
       "      <td>0</td>\n",
       "      <td>0</td>\n",
       "      <td>0</td>\n",
       "      <td>0</td>\n",
       "      <td>0</td>\n",
       "      <td>0</td>\n",
       "      <td>...</td>\n",
       "      <td>0</td>\n",
       "      <td>0</td>\n",
       "      <td>0</td>\n",
       "      <td>0</td>\n",
       "      <td>0</td>\n",
       "      <td>0</td>\n",
       "      <td>0</td>\n",
       "      <td>0</td>\n",
       "      <td>0</td>\n",
       "      <td>0</td>\n",
       "    </tr>\n",
       "    <tr>\n",
       "      <th>2</th>\n",
       "      <td>1</td>\n",
       "      <td>0</td>\n",
       "      <td>0</td>\n",
       "      <td>0</td>\n",
       "      <td>0</td>\n",
       "      <td>0</td>\n",
       "      <td>0</td>\n",
       "      <td>0</td>\n",
       "      <td>0</td>\n",
       "      <td>0</td>\n",
       "      <td>...</td>\n",
       "      <td>0</td>\n",
       "      <td>0</td>\n",
       "      <td>0</td>\n",
       "      <td>0</td>\n",
       "      <td>0</td>\n",
       "      <td>0</td>\n",
       "      <td>0</td>\n",
       "      <td>0</td>\n",
       "      <td>0</td>\n",
       "      <td>0</td>\n",
       "    </tr>\n",
       "    <tr>\n",
       "      <th>3</th>\n",
       "      <td>4</td>\n",
       "      <td>0</td>\n",
       "      <td>0</td>\n",
       "      <td>0</td>\n",
       "      <td>0</td>\n",
       "      <td>0</td>\n",
       "      <td>0</td>\n",
       "      <td>0</td>\n",
       "      <td>0</td>\n",
       "      <td>0</td>\n",
       "      <td>...</td>\n",
       "      <td>0</td>\n",
       "      <td>0</td>\n",
       "      <td>0</td>\n",
       "      <td>0</td>\n",
       "      <td>0</td>\n",
       "      <td>0</td>\n",
       "      <td>0</td>\n",
       "      <td>0</td>\n",
       "      <td>0</td>\n",
       "      <td>0</td>\n",
       "    </tr>\n",
       "    <tr>\n",
       "      <th>4</th>\n",
       "      <td>0</td>\n",
       "      <td>0</td>\n",
       "      <td>0</td>\n",
       "      <td>0</td>\n",
       "      <td>0</td>\n",
       "      <td>0</td>\n",
       "      <td>0</td>\n",
       "      <td>0</td>\n",
       "      <td>0</td>\n",
       "      <td>0</td>\n",
       "      <td>...</td>\n",
       "      <td>0</td>\n",
       "      <td>0</td>\n",
       "      <td>0</td>\n",
       "      <td>0</td>\n",
       "      <td>0</td>\n",
       "      <td>0</td>\n",
       "      <td>0</td>\n",
       "      <td>0</td>\n",
       "      <td>0</td>\n",
       "      <td>0</td>\n",
       "    </tr>\n",
       "  </tbody>\n",
       "</table>\n",
       "<p>5 rows × 785 columns</p>\n",
       "</div>"
      ],
      "text/plain": [
       "   label  pixel0  pixel1  pixel2  pixel3  pixel4  pixel5  pixel6  pixel7  \\\n",
       "0      1       0       0       0       0       0       0       0       0   \n",
       "1      0       0       0       0       0       0       0       0       0   \n",
       "2      1       0       0       0       0       0       0       0       0   \n",
       "3      4       0       0       0       0       0       0       0       0   \n",
       "4      0       0       0       0       0       0       0       0       0   \n",
       "\n",
       "   pixel8  ...  pixel774  pixel775  pixel776  pixel777  pixel778  pixel779  \\\n",
       "0       0  ...         0         0         0         0         0         0   \n",
       "1       0  ...         0         0         0         0         0         0   \n",
       "2       0  ...         0         0         0         0         0         0   \n",
       "3       0  ...         0         0         0         0         0         0   \n",
       "4       0  ...         0         0         0         0         0         0   \n",
       "\n",
       "   pixel780  pixel781  pixel782  pixel783  \n",
       "0         0         0         0         0  \n",
       "1         0         0         0         0  \n",
       "2         0         0         0         0  \n",
       "3         0         0         0         0  \n",
       "4         0         0         0         0  \n",
       "\n",
       "[5 rows x 785 columns]"
      ]
     },
     "execution_count": 5,
     "metadata": {},
     "output_type": "execute_result"
    }
   ],
   "source": [
    "import pandas as pd\n",
    "\n",
    "path = '/kaggle/input/digit-recognizer/'\n",
    "digits = pd.read_csv(path+'train.csv')\n",
    "\n",
    "digits.head()"
   ]
  },
  {
   "cell_type": "markdown",
   "id": "805ce76b",
   "metadata": {
    "papermill": {
     "duration": 0.008044,
     "end_time": "2025-04-02T10:49:50.100675",
     "exception": false,
     "start_time": "2025-04-02T10:49:50.092631",
     "status": "completed"
    },
    "tags": []
   },
   "source": [
    "## Normalization"
   ]
  },
  {
   "cell_type": "code",
   "execution_count": 6,
   "id": "3b178855",
   "metadata": {
    "execution": {
     "iopub.execute_input": "2025-04-02T10:49:50.119109Z",
     "iopub.status.busy": "2025-04-02T10:49:50.118715Z",
     "iopub.status.idle": "2025-04-02T10:49:50.998349Z",
     "shell.execute_reply": "2025-04-02T10:49:50.996868Z"
    },
    "papermill": {
     "duration": 0.891844,
     "end_time": "2025-04-02T10:49:51.000839",
     "exception": false,
     "start_time": "2025-04-02T10:49:50.108995",
     "status": "completed"
    },
    "tags": []
   },
   "outputs": [],
   "source": [
    "from sklearn.model_selection import train_test_split\n",
    "\n",
    "X = digits.drop('label', axis=1).values\n",
    "Y = digits['label'].values\n",
    "\n",
    "X_train, X_test, Y_train, Y_test = train_test_split(X,Y, test_size=0.3)\n",
    "\n",
    "from sklearn.preprocessing import MinMaxScaler\n",
    "\n",
    "mms = MinMaxScaler()\n",
    "\n",
    "X_train = mms.fit_transform(X_train)\n",
    "X_test = mms.transform(X_test)"
   ]
  },
  {
   "cell_type": "markdown",
   "id": "693852b7",
   "metadata": {
    "papermill": {
     "duration": 0.008746,
     "end_time": "2025-04-02T10:49:51.020223",
     "exception": false,
     "start_time": "2025-04-02T10:49:51.011477",
     "status": "completed"
    },
    "tags": []
   },
   "source": [
    "## Model"
   ]
  },
  {
   "cell_type": "markdown",
   "id": "202d118e",
   "metadata": {
    "papermill": {
     "duration": 0.008111,
     "end_time": "2025-04-02T10:49:51.036823",
     "exception": false,
     "start_time": "2025-04-02T10:49:51.028712",
     "status": "completed"
    },
    "tags": []
   },
   "source": [
    "### Tuning\n",
    "\n",
    "There are not a lot of params. The most complex hyperparams is `hidden_layer_sizes`. Since the dataset is simple enough, 1 or 2 layers is good. The number of neurons for layer can be found in a small value (50-200).  \n",
    "About $\\alpha$, a good practice is to try values around $10^{-4}$ and $10$"
   ]
  },
  {
   "cell_type": "code",
   "execution_count": 7,
   "id": "395b0698",
   "metadata": {
    "execution": {
     "iopub.execute_input": "2025-04-02T10:49:51.055517Z",
     "iopub.status.busy": "2025-04-02T10:49:51.055191Z",
     "iopub.status.idle": "2025-04-02T11:06:43.085359Z",
     "shell.execute_reply": "2025-04-02T11:06:43.084315Z"
    },
    "papermill": {
     "duration": 1012.050852,
     "end_time": "2025-04-02T11:06:43.096025",
     "exception": false,
     "start_time": "2025-04-02T10:49:51.045173",
     "status": "completed"
    },
    "tags": []
   },
   "outputs": [
    {
     "name": "stdout",
     "output_type": "stream",
     "text": [
      "Best params: {'hidden_layer_sizes': (50, 50), 'alpha': 0.1}\n"
     ]
    }
   ],
   "source": [
    "# Hyperparams tuning\n",
    "\n",
    "from sklearn.model_selection import RandomizedSearchCV\n",
    "from sklearn.neural_network import MLPClassifier\n",
    "\n",
    "params = {\n",
    "    'hidden_layer_sizes': [(100,), (100,100), (50,50)],\n",
    "    'alpha': [0.0001, 0.001, 0.01, 0.1, 1, 10]    \n",
    "}\n",
    "\n",
    "mlp = MLPClassifier()\n",
    "\n",
    "rs = RandomizedSearchCV(\n",
    "    mlp,\n",
    "    params,\n",
    "    cv=3,\n",
    "    n_iter=10,\n",
    "    scoring='neg_log_loss'\n",
    ")\n",
    "\n",
    "rs.fit(X_train, Y_train)\n",
    "\n",
    "mlp = rs.best_estimator_\n",
    "print(f'Best params: {rs.best_params_}')"
   ]
  },
  {
   "cell_type": "markdown",
   "id": "9a1c09a3",
   "metadata": {
    "papermill": {
     "duration": 0.008733,
     "end_time": "2025-04-02T11:06:43.113326",
     "exception": false,
     "start_time": "2025-04-02T11:06:43.104593",
     "status": "completed"
    },
    "tags": []
   },
   "source": [
    "## Prediction"
   ]
  },
  {
   "cell_type": "code",
   "execution_count": 8,
   "id": "bfb13775",
   "metadata": {
    "execution": {
     "iopub.execute_input": "2025-04-02T11:06:43.132103Z",
     "iopub.status.busy": "2025-04-02T11:06:43.131711Z",
     "iopub.status.idle": "2025-04-02T11:07:45.788188Z",
     "shell.execute_reply": "2025-04-02T11:07:45.787020Z"
    },
    "papermill": {
     "duration": 62.677622,
     "end_time": "2025-04-02T11:07:45.799881",
     "exception": false,
     "start_time": "2025-04-02T11:06:43.122259",
     "status": "completed"
    },
    "tags": []
   },
   "outputs": [
    {
     "name": "stdout",
     "output_type": "stream",
     "text": [
      "TRAIN - Accuracy: 0.9991156462585034 , Logloss: 0.012785906752995187\n",
      "TEST - Accuracy: 0.9688888888888889 , Logloss: 0.10891065080543141\n"
     ]
    }
   ],
   "source": [
    "# Prediction\n",
    "\n",
    "mlp.fit(X_train, Y_train)\n",
    "Y_train_pred = mlp.predict(X_train)\n",
    "Y_train_proba = mlp.predict_proba(X_train)\n",
    "Y_pred = mlp.predict(X_test)\n",
    "Y_proba = mlp.predict_proba(X_test)\n",
    "\n",
    "from sklearn.metrics import accuracy_score, log_loss\n",
    "print(f'TRAIN - Accuracy: {accuracy_score(Y_train, Y_train_pred)} , Logloss: {log_loss(Y_train, Y_train_proba)}')\n",
    "print(f'TEST - Accuracy: {accuracy_score(Y_test, Y_pred)} , Logloss: {log_loss(Y_test, Y_proba)}')"
   ]
  },
  {
   "cell_type": "markdown",
   "id": "a094a146",
   "metadata": {
    "papermill": {
     "duration": 0.008467,
     "end_time": "2025-04-02T11:07:45.817332",
     "exception": false,
     "start_time": "2025-04-02T11:07:45.808865",
     "status": "completed"
    },
    "tags": []
   },
   "source": [
    "This is a good result. In my develop test, I reached `Accuracy=0.9759523809523809` and `Logloss=0.08368947153692488` in test set and a very small difference from Training set (showing a low level of overfitting). In final Notebook, the results should be similar."
   ]
  },
  {
   "cell_type": "markdown",
   "id": "f01be705",
   "metadata": {
    "papermill": {
     "duration": 0.009126,
     "end_time": "2025-04-02T11:07:45.834992",
     "exception": false,
     "start_time": "2025-04-02T11:07:45.825866",
     "status": "completed"
    },
    "tags": []
   },
   "source": [
    "## Errors\n",
    "\n",
    "Accuracy and log loss are pretty good, but NN are not the best model, so I'm gonna show the first 10 errors so to better analyze it's limit"
   ]
  },
  {
   "cell_type": "code",
   "execution_count": 9,
   "id": "f32f4f49",
   "metadata": {
    "collapsed": true,
    "execution": {
     "iopub.execute_input": "2025-04-02T11:07:45.854332Z",
     "iopub.status.busy": "2025-04-02T11:07:45.853904Z",
     "iopub.status.idle": "2025-04-02T11:07:47.505768Z",
     "shell.execute_reply": "2025-04-02T11:07:47.504517Z"
    },
    "jupyter": {
     "outputs_hidden": true
    },
    "papermill": {
     "duration": 1.663686,
     "end_time": "2025-04-02T11:07:47.507584",
     "exception": false,
     "start_time": "2025-04-02T11:07:45.843898",
     "status": "completed"
    },
    "tags": []
   },
   "outputs": [
    {
     "name": "stdout",
     "output_type": "stream",
     "text": [
      "Total errors: 392 (3.11 %)\n",
      "Predicted: 3, Number: 1\n"
     ]
    },
    {
     "data": {
      "image/png": "[encoded data removed]",
      "text/plain": [
       "<Figure size 640x480 with 1 Axes>"
      ]
     },
     "metadata": {},
     "output_type": "display_data"
    },
    {
     "name": "stdout",
     "output_type": "stream",
     "text": [
      "Predicted: 0, Number: 3\n"
     ]
    },
    {
     "data": {
      "image/png": "[encoded data removed]",
      "text/plain": [
       "<Figure size 640x480 with 1 Axes>"
      ]
     },
     "metadata": {},
     "output_type": "display_data"
    },
    {
     "name": "stdout",
     "output_type": "stream",
     "text": [
      "Predicted: 6, Number: 4\n"
     ]
    },
    {
     "data": {
      "image/png": "[encoded data removed]",
      "text/plain": [
       "<Figure size 640x480 with 1 Axes>"
      ]
     },
     "metadata": {},
     "output_type": "display_data"
    },
    {
     "name": "stdout",
     "output_type": "stream",
     "text": [
      "Predicted: 9, Number: 4\n"
     ]
    },
    {
     "data": {
      "image/png": "[encoded data removed]",
      "text/plain": [
       "<Figure size 640x480 with 1 Axes>"
      ]
     },
     "metadata": {},
     "output_type": "display_data"
    },
    {
     "name": "stdout",
     "output_type": "stream",
     "text": [
      "Predicted: 9, Number: 0\n"
     ]
    },
    {
     "data": {
      "image/png": "[encoded data removed]",
      "text/plain": [
       "<Figure size 640x480 with 1 Axes>"
      ]
     },
     "metadata": {},
     "output_type": "display_data"
    },
    {
     "name": "stdout",
     "output_type": "stream",
     "text": [
      "Predicted: 8, Number: 3\n"
     ]
    },
    {
     "data": {
      "image/png": "[encoded data removed]",
      "text/plain": [
       "<Figure size 640x480 with 1 Axes>"
      ]
     },
     "metadata": {},
     "output_type": "display_data"
    },
    {
     "name": "stdout",
     "output_type": "stream",
     "text": [
      "Predicted: 1, Number: 7\n"
     ]
    },
    {
     "data": {
      "image/png": "[encoded data removed]",
      "text/plain": [
       "<Figure size 640x480 with 1 Axes>"
      ]
     },
     "metadata": {},
     "output_type": "display_data"
    },
    {
     "name": "stdout",
     "output_type": "stream",
     "text": [
      "Predicted: 4, Number: 8\n"
     ]
    },
    {
     "data": {
      "image/png": "[encoded data removed]",
      "text/plain": [
       "<Figure size 640x480 with 1 Axes>"
      ]
     },
     "metadata": {},
     "output_type": "display_data"
    },
    {
     "name": "stdout",
     "output_type": "stream",
     "text": [
      "Predicted: 6, Number: 4\n"
     ]
    },
    {
     "data": {
      "image/png": "[encoded data removed]",
      "text/plain": [
       "<Figure size 640x480 with 1 Axes>"
      ]
     },
     "metadata": {},
     "output_type": "display_data"
    },
    {
     "name": "stdout",
     "output_type": "stream",
     "text": [
      "Predicted: 1, Number: 9\n"
     ]
    },
    {
     "data": {
      "image/png": "[encoded data removed]",
      "text/plain": [
       "<Figure size 640x480 with 1 Axes>"
      ]
     },
     "metadata": {},
     "output_type": "display_data"
    }
   ],
   "source": [
    "error_cases = Y_pred!=Y_test\n",
    "error_cases = error_cases[error_cases == True]\n",
    "print(f'Total errors: {len(error_cases)} ({(len(error_cases)/len(X_test)*100):.2f} %)')\n",
    "errors = 0\n",
    "for i in range(0,len(X_test)):\n",
    "    if(Y_pred[i] != Y_test[i]):\n",
    "        print(f'Predicted: {Y_pred[i]}, Number: {Y_test[i]}')\n",
    "        plt.imshow(X_test[i].reshape(28,28), cmap='gray')\n",
    "        plt.show()\n",
    "        errors += 1\n",
    "    if errors == 10:\n",
    "        break"
   ]
  },
  {
   "cell_type": "markdown",
   "id": "0f6228ac",
   "metadata": {
    "papermill": {
     "duration": 0.012746,
     "end_time": "2025-04-02T11:07:47.534565",
     "exception": false,
     "start_time": "2025-04-02T11:07:47.521819",
     "status": "completed"
    },
    "tags": []
   },
   "source": [
    "As we can see, some of those numbers was not so hard to be predicted, but the error percentage is low so we can improve it with better models"
   ]
  },
  {
   "cell_type": "markdown",
   "id": "7b690457",
   "metadata": {
    "papermill": {
     "duration": 0.012311,
     "end_time": "2025-04-02T11:07:47.558611",
     "exception": false,
     "start_time": "2025-04-02T11:07:47.546300",
     "status": "completed"
    },
    "tags": []
   },
   "source": [
    "## Refit in full set\n",
    "\n",
    "Before commiting the final result, since train dataset is small, I'm gonna re-fit the already optimized model using all training set to better understand relations."
   ]
  },
  {
   "cell_type": "code",
   "execution_count": 10,
   "id": "978b8792",
   "metadata": {
    "execution": {
     "iopub.execute_input": "2025-04-02T11:07:47.584734Z",
     "iopub.status.busy": "2025-04-02T11:07:47.584361Z",
     "iopub.status.idle": "2025-04-02T11:09:24.369366Z",
     "shell.execute_reply": "2025-04-02T11:09:24.368215Z"
    },
    "papermill": {
     "duration": 96.81254,
     "end_time": "2025-04-02T11:09:24.383313",
     "exception": false,
     "start_time": "2025-04-02T11:07:47.570773",
     "status": "completed"
    },
    "tags": []
   },
   "outputs": [
    {
     "data": {
      "text/html": [
       "<style>#sk-container-id-1 {color: black;background-color: white;}#sk-container-id-1 pre{padding: 0;}#sk-container-id-1 div.sk-toggleable {background-color: white;}#sk-container-id-1 label.sk-toggleable__label {cursor: pointer;display: block;width: 100%;margin-bottom: 0;padding: 0.3em;box-sizing: border-box;text-align: center;}#sk-container-id-1 label.sk-toggleable__label-arrow:before {content: \"▸\";float: left;margin-right: 0.25em;color: #696969;}#sk-container-id-1 label.sk-toggleable__label-arrow:hover:before {color: black;}#sk-container-id-1 div.sk-estimator:hover label.sk-toggleable__label-arrow:before {color: black;}#sk-container-id-1 div.sk-toggleable__content {max-height: 0;max-width: 0;overflow: hidden;text-align: left;background-color: #f0f8ff;}#sk-container-id-1 div.sk-toggleable__content pre {margin: 0.2em;color: black;border-radius: 0.25em;background-color: #f0f8ff;}#sk-container-id-1 input.sk-toggleable__control:checked~div.sk-toggleable__content {max-height: 200px;max-width: 100%;overflow: auto;}#sk-container-id-1 input.sk-toggleable__control:checked~label.sk-toggleable__label-arrow:before {content: \"▾\";}#sk-container-id-1 div.sk-estimator input.sk-toggleable__control:checked~label.sk-toggleable__label {background-color: #d4ebff;}#sk-container-id-1 div.sk-label input.sk-toggleable__control:checked~label.sk-toggleable__label {background-color: #d4ebff;}#sk-container-id-1 input.sk-hidden--visually {border: 0;clip: rect(1px 1px 1px 1px);clip: rect(1px, 1px, 1px, 1px);height: 1px;margin: -1px;overflow: hidden;padding: 0;position: absolute;width: 1px;}#sk-container-id-1 div.sk-estimator {font-family: monospace;background-color: #f0f8ff;border: 1px dotted black;border-radius: 0.25em;box-sizing: border-box;margin-bottom: 0.5em;}#sk-container-id-1 div.sk-estimator:hover {background-color: #d4ebff;}#sk-container-id-1 div.sk-parallel-item::after {content: \"\";width: 100%;border-bottom: 1px solid gray;flex-grow: 1;}#sk-container-id-1 div.sk-label:hover label.sk-toggleable__label {background-color: #d4ebff;}#sk-container-id-1 div.sk-serial::before {content: \"\";position: absolute;border-left: 1px solid gray;box-sizing: border-box;top: 0;bottom: 0;left: 50%;z-index: 0;}#sk-container-id-1 div.sk-serial {display: flex;flex-direction: column;align-items: center;background-color: white;padding-right: 0.2em;padding-left: 0.2em;position: relative;}#sk-container-id-1 div.sk-item {position: relative;z-index: 1;}#sk-container-id-1 div.sk-parallel {display: flex;align-items: stretch;justify-content: center;background-color: white;position: relative;}#sk-container-id-1 div.sk-item::before, #sk-container-id-1 div.sk-parallel-item::before {content: \"\";position: absolute;border-left: 1px solid gray;box-sizing: border-box;top: 0;bottom: 0;left: 50%;z-index: -1;}#sk-container-id-1 div.sk-parallel-item {display: flex;flex-direction: column;z-index: 1;position: relative;background-color: white;}#sk-container-id-1 div.sk-parallel-item:first-child::after {align-self: flex-end;width: 50%;}#sk-container-id-1 div.sk-parallel-item:last-child::after {align-self: flex-start;width: 50%;}#sk-container-id-1 div.sk-parallel-item:only-child::after {width: 0;}#sk-container-id-1 div.sk-dashed-wrapped {border: 1px dashed gray;margin: 0 0.4em 0.5em 0.4em;box-sizing: border-box;padding-bottom: 0.4em;background-color: white;}#sk-container-id-1 div.sk-label label {font-family: monospace;font-weight: bold;display: inline-block;line-height: 1.2em;}#sk-container-id-1 div.sk-label-container {text-align: center;}#sk-container-id-1 div.sk-container {/* jupyter's `normalize.less` sets `[hidden] { display: none; }` but bootstrap.min.css set `[hidden] { display: none !important; }` so we also need the `!important` here to be able to override the default hidden behavior on the sphinx rendered scikit-learn.org. See: https://github.com/scikit-learn/scikit-learn/issues/21755 */display: inline-block !important;position: relative;}#sk-container-id-1 div.sk-text-repr-fallback {display: none;}</style><div id=\"sk-container-id-1\" class=\"sk-top-container\"><div class=\"sk-text-repr-fallback\"><pre>MLPClassifier(alpha=0.1, hidden_layer_sizes=(50, 50))</pre><b>In a Jupyter environment, please rerun this cell to show the HTML representation or trust the notebook. <br />On GitHub, the HTML representation is unable to render, please try loading this page with nbviewer.org.</b></div><div class=\"sk-container\" hidden><div class=\"sk-item\"><div class=\"sk-estimator sk-toggleable\"><input class=\"sk-toggleable__control sk-hidden--visually\" id=\"sk-estimator-id-1\" type=\"checkbox\" checked><label for=\"sk-estimator-id-1\" class=\"sk-toggleable__label sk-toggleable__label-arrow\">MLPClassifier</label><div class=\"sk-toggleable__content\"><pre>MLPClassifier(alpha=0.1, hidden_layer_sizes=(50, 50))</pre></div></div></div></div></div>"
      ],
      "text/plain": [
       "MLPClassifier(alpha=0.1, hidden_layer_sizes=(50, 50))"
      ]
     },
     "execution_count": 10,
     "metadata": {},
     "output_type": "execute_result"
    }
   ],
   "source": [
    "X = mms.transform(X)\n",
    "mlp.fit(X, Y)"
   ]
  },
  {
   "cell_type": "markdown",
   "id": "a0a13b96",
   "metadata": {
    "papermill": {
     "duration": 0.012025,
     "end_time": "2025-04-02T11:09:24.407411",
     "exception": false,
     "start_time": "2025-04-02T11:09:24.395386",
     "status": "completed"
    },
    "tags": []
   },
   "source": [
    "## Output"
   ]
  },
  {
   "cell_type": "code",
   "execution_count": 11,
   "id": "5ac0ebab",
   "metadata": {
    "execution": {
     "iopub.execute_input": "2025-04-02T11:09:24.433770Z",
     "iopub.status.busy": "2025-04-02T11:09:24.433392Z",
     "iopub.status.idle": "2025-04-02T11:09:26.539537Z",
     "shell.execute_reply": "2025-04-02T11:09:26.538461Z"
    },
    "papermill": {
     "duration": 2.121323,
     "end_time": "2025-04-02T11:09:26.541314",
     "exception": false,
     "start_time": "2025-04-02T11:09:24.419991",
     "status": "completed"
    },
    "tags": []
   },
   "outputs": [
    {
     "data": {
      "text/html": [
       "<div>\n",
       "<style scoped>\n",
       "    .dataframe tbody tr th:only-of-type {\n",
       "        vertical-align: middle;\n",
       "    }\n",
       "\n",
       "    .dataframe tbody tr th {\n",
       "        vertical-align: top;\n",
       "    }\n",
       "\n",
       "    .dataframe thead th {\n",
       "        text-align: right;\n",
       "    }\n",
       "</style>\n",
       "<table border=\"1\" class=\"dataframe\">\n",
       "  <thead>\n",
       "    <tr style=\"text-align: right;\">\n",
       "      <th></th>\n",
       "      <th>Label</th>\n",
       "    </tr>\n",
       "    <tr>\n",
       "      <th>ImageId</th>\n",
       "      <th></th>\n",
       "    </tr>\n",
       "  </thead>\n",
       "  <tbody>\n",
       "    <tr>\n",
       "      <th>1</th>\n",
       "      <td>2</td>\n",
       "    </tr>\n",
       "    <tr>\n",
       "      <th>2</th>\n",
       "      <td>0</td>\n",
       "    </tr>\n",
       "    <tr>\n",
       "      <th>3</th>\n",
       "      <td>9</td>\n",
       "    </tr>\n",
       "    <tr>\n",
       "      <th>4</th>\n",
       "      <td>9</td>\n",
       "    </tr>\n",
       "    <tr>\n",
       "      <th>5</th>\n",
       "      <td>3</td>\n",
       "    </tr>\n",
       "    <tr>\n",
       "      <th>...</th>\n",
       "      <td>...</td>\n",
       "    </tr>\n",
       "    <tr>\n",
       "      <th>27996</th>\n",
       "      <td>9</td>\n",
       "    </tr>\n",
       "    <tr>\n",
       "      <th>27997</th>\n",
       "      <td>7</td>\n",
       "    </tr>\n",
       "    <tr>\n",
       "      <th>27998</th>\n",
       "      <td>3</td>\n",
       "    </tr>\n",
       "    <tr>\n",
       "      <th>27999</th>\n",
       "      <td>9</td>\n",
       "    </tr>\n",
       "    <tr>\n",
       "      <th>28000</th>\n",
       "      <td>2</td>\n",
       "    </tr>\n",
       "  </tbody>\n",
       "</table>\n",
       "<p>28000 rows × 1 columns</p>\n",
       "</div>"
      ],
      "text/plain": [
       "         Label\n",
       "ImageId       \n",
       "1            2\n",
       "2            0\n",
       "3            9\n",
       "4            9\n",
       "5            3\n",
       "...        ...\n",
       "27996        9\n",
       "27997        7\n",
       "27998        3\n",
       "27999        9\n",
       "28000        2\n",
       "\n",
       "[28000 rows x 1 columns]"
      ]
     },
     "metadata": {},
     "output_type": "display_data"
    }
   ],
   "source": [
    "import pandas as pd\n",
    "\n",
    "path = '/kaggle/input/digit-recognizer/'\n",
    "outpath = '/kaggle/working/'\n",
    "\n",
    "digit_test = pd.read_csv(path+'test.csv')\n",
    "\n",
    "image_id = digit_test.index+1\n",
    "X_test = digit_test.values\n",
    "Y_pred = mlp.predict(X_test)\n",
    "\n",
    "output_digits = pd.DataFrame({'ImageId': image_id, 'Label': Y_pred})\n",
    "output_digits = output_digits.set_index('ImageId')\n",
    "display(output_digits)"
   ]
  },
  {
   "cell_type": "code",
   "execution_count": 12,
   "id": "353a3db0",
   "metadata": {
    "execution": {
     "iopub.execute_input": "2025-04-02T11:09:26.567964Z",
     "iopub.status.busy": "2025-04-02T11:09:26.567561Z",
     "iopub.status.idle": "2025-04-02T11:09:26.597870Z",
     "shell.execute_reply": "2025-04-02T11:09:26.596744Z"
    },
    "papermill": {
     "duration": 0.045561,
     "end_time": "2025-04-02T11:09:26.599767",
     "exception": false,
     "start_time": "2025-04-02T11:09:26.554206",
     "status": "completed"
    },
    "tags": []
   },
   "outputs": [],
   "source": [
    "from datetime import datetime\n",
    "timestamp = datetime.now().strftime('%Y-%m-%d_%H:%M:%S')\n",
    "output_digits.to_csv(outpath+'results_'+timestamp+'.csv')"
   ]
  }
 ],
 "metadata": {
  "kaggle": {
   "accelerator": "none",
   "dataSources": [
    {
     "databundleVersionId": 861823,
     "sourceId": 3004,
     "sourceType": "competition"
    }
   ],
   "dockerImageVersionId": 30918,
   "isGpuEnabled": false,
   "isInternetEnabled": true,
   "language": "python",
   "sourceType": "notebook"
  },
  "kernelspec": {
   "display_name": "Python 3",
   "language": "python",
   "name": "python3"
  },
  "language_info": {
   "codemirror_mode": {
    "name": "ipython",
    "version": 3
   },
   "file_extension": ".py",
   "mimetype": "text/x-python",
   "name": "python",
   "nbconvert_exporter": "python",
   "pygments_lexer": "ipython3",
   "version": "3.10.12"
  },
  "papermill": {
   "default_parameters": {},
   "duration": 1223.854159,
   "end_time": "2025-04-02T11:09:27.436096",
   "environment_variables": {},
   "exception": null,
   "input_path": "__notebook__.ipynb",
   "output_path": "__notebook__.ipynb",
   "parameters": {},
   "start_time": "2025-04-02T10:49:03.581937",
   "version": "2.6.0"
  }
 },
 "nbformat": 4,
 "nbformat_minor": 5
}
