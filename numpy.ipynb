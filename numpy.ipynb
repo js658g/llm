{
 "cells": [
  {
   "cell_type": "code",
   "execution_count": 1,
   "id": "c0fecf56",
   "metadata": {
    "execution": {
     "iopub.execute_input": "2025-02-11T19:45:42.304706Z",
     "iopub.status.busy": "2025-02-11T19:45:42.304226Z",
     "iopub.status.idle": "2025-02-11T19:45:42.317132Z",
     "shell.execute_reply": "2025-02-11T19:45:42.316004Z"
    },
    "id": "3shI3Ss5eqmR",
    "outputId": "bdc1634d-1b61-4196-9aae-ae385eea6069",
    "papermill": {
     "duration": 0.028171,
     "end_time": "2025-02-11T19:45:42.319306",
     "exception": false,
     "start_time": "2025-02-11T19:45:42.291135",
     "status": "completed"
    },
    "tags": []
   },
   "outputs": [
    {
     "name": "stdout",
     "output_type": "stream",
     "text": [
      "[1 2 3 6 4 5]\n"
     ]
    },
    {
     "data": {
      "text/plain": [
       "array([5, 4, 6, 3, 2, 1])"
      ]
     },
     "execution_count": 1,
     "metadata": {},
     "output_type": "execute_result"
    }
   ],
   "source": [
    "import numpy as np\n",
    "arr1=np.array([1,2,3,6,4,5])\n",
    "print(arr1)\n",
    "np.flip(arr1)"
   ]
  },
  {
   "cell_type": "code",
   "execution_count": 2,
   "id": "18daf94c",
   "metadata": {
    "execution": {
     "iopub.execute_input": "2025-02-11T19:45:42.342873Z",
     "iopub.status.busy": "2025-02-11T19:45:42.342419Z",
     "iopub.status.idle": "2025-02-11T19:45:42.348030Z",
     "shell.execute_reply": "2025-02-11T19:45:42.347019Z"
    },
    "id": "H70hFbkZfcet",
    "papermill": {
     "duration": 0.01958,
     "end_time": "2025-02-11T19:45:42.349943",
     "exception": false,
     "start_time": "2025-02-11T19:45:42.330363",
     "status": "completed"
    },
    "tags": []
   },
   "outputs": [],
   "source": [
    "a1D =np.array([1,2,3,4])\n",
    "a2D=np.array([[1,2],[3,4]])\n",
    "a3D=np.array([[[1,2],[3,4]],[[5,6],[7,8]]])"
   ]
  },
  {
   "cell_type": "code",
   "execution_count": null,
   "id": "02bc179c",
   "metadata": {
    "id": "lr470SHDhi9X",
    "papermill": {
     "duration": 0.009963,
     "end_time": "2025-02-11T19:45:42.370813",
     "exception": false,
     "start_time": "2025-02-11T19:45:42.360850",
     "status": "completed"
    },
    "tags": []
   },
   "outputs": [],
   "source": []
  },
  {
   "cell_type": "code",
   "execution_count": 3,
   "id": "abf5b1bc",
   "metadata": {
    "execution": {
     "iopub.execute_input": "2025-02-11T19:45:42.393302Z",
     "iopub.status.busy": "2025-02-11T19:45:42.392866Z",
     "iopub.status.idle": "2025-02-11T19:45:42.400391Z",
     "shell.execute_reply": "2025-02-11T19:45:42.399138Z"
    },
    "id": "ifIwxSdFg07K",
    "outputId": "8a412c6a-dca8-420e-d14c-c569b7e3c9da",
    "papermill": {
     "duration": 0.02128,
     "end_time": "2025-02-11T19:45:42.402557",
     "exception": false,
     "start_time": "2025-02-11T19:45:42.381277",
     "status": "completed"
    },
    "tags": []
   },
   "outputs": [
    {
     "name": "stdout",
     "output_type": "stream",
     "text": [
      "3\n",
      "(2, 2, 2)\n",
      "8\n",
      "int64\n",
      "8\n"
     ]
    }
   ],
   "source": [
    "print(a3D.ndim)\n",
    "print(a3D.shape)\n",
    "print(a3D.size)\n",
    "print(a3D.dtype)\n",
    "print(a3D.itemsize)"
   ]
  },
  {
   "cell_type": "code",
   "execution_count": 4,
   "id": "02e3c676",
   "metadata": {
    "execution": {
     "iopub.execute_input": "2025-02-11T19:45:42.426589Z",
     "iopub.status.busy": "2025-02-11T19:45:42.426066Z",
     "iopub.status.idle": "2025-02-11T19:45:42.433326Z",
     "shell.execute_reply": "2025-02-11T19:45:42.432122Z"
    },
    "id": "vcgwFQ7whEJG",
    "outputId": "45a4d890-f2f5-42db-90c6-362d83c79015",
    "papermill": {
     "duration": 0.021412,
     "end_time": "2025-02-11T19:45:42.435033",
     "exception": false,
     "start_time": "2025-02-11T19:45:42.413621",
     "status": "completed"
    },
    "tags": []
   },
   "outputs": [
    {
     "name": "stdout",
     "output_type": "stream",
     "text": [
      "1\n",
      "(4,)\n",
      "4\n",
      "int64\n",
      "8\n"
     ]
    }
   ],
   "source": [
    "print(a1D.ndim)\n",
    "print(a1D.shape)\n",
    "print(a1D.size)\n",
    "print(a1D.dtype)\n",
    "print(a1D.itemsize)"
   ]
  },
  {
   "cell_type": "code",
   "execution_count": 5,
   "id": "cee75968",
   "metadata": {
    "execution": {
     "iopub.execute_input": "2025-02-11T19:45:42.458351Z",
     "iopub.status.busy": "2025-02-11T19:45:42.457902Z",
     "iopub.status.idle": "2025-02-11T19:45:42.464109Z",
     "shell.execute_reply": "2025-02-11T19:45:42.462819Z"
    },
    "id": "Jb107im3hp1I",
    "outputId": "53c6732c-6163-451e-fe53-459a5372396b",
    "papermill": {
     "duration": 0.020356,
     "end_time": "2025-02-11T19:45:42.466186",
     "exception": false,
     "start_time": "2025-02-11T19:45:42.445830",
     "status": "completed"
    },
    "tags": []
   },
   "outputs": [
    {
     "name": "stdout",
     "output_type": "stream",
     "text": [
      "[ 1.  2.  3. 45.]\n"
     ]
    }
   ],
   "source": [
    "a=np.array([1,2,3,45],dtype=float)\n",
    "print(a)"
   ]
  },
  {
   "cell_type": "code",
   "execution_count": 6,
   "id": "cb8d3b88",
   "metadata": {
    "execution": {
     "iopub.execute_input": "2025-02-11T19:45:42.489803Z",
     "iopub.status.busy": "2025-02-11T19:45:42.489292Z",
     "iopub.status.idle": "2025-02-11T19:45:42.496084Z",
     "shell.execute_reply": "2025-02-11T19:45:42.494746Z"
    },
    "id": "tBWBmfhvh_Nc",
    "outputId": "a0987b4e-83a4-43b6-8253-f266642ca42f",
    "papermill": {
     "duration": 0.020502,
     "end_time": "2025-02-11T19:45:42.497902",
     "exception": false,
     "start_time": "2025-02-11T19:45:42.477400",
     "status": "completed"
    },
    "tags": []
   },
   "outputs": [
    {
     "name": "stdout",
     "output_type": "stream",
     "text": [
      "[ 1.+0.j  2.+0.j  3.+0.j 45.+0.j]\n"
     ]
    }
   ],
   "source": [
    "a=np.array([1,2,3,45],dtype=complex)\n",
    "print(a)"
   ]
  },
  {
   "cell_type": "code",
   "execution_count": 7,
   "id": "201c776a",
   "metadata": {
    "execution": {
     "iopub.execute_input": "2025-02-11T19:45:42.522012Z",
     "iopub.status.busy": "2025-02-11T19:45:42.521458Z",
     "iopub.status.idle": "2025-02-11T19:45:42.528624Z",
     "shell.execute_reply": "2025-02-11T19:45:42.527445Z"
    },
    "id": "zXq_d54KiDcH",
    "outputId": "8e35a535-b94f-4ae9-9322-5e7894a140af",
    "papermill": {
     "duration": 0.021555,
     "end_time": "2025-02-11T19:45:42.530637",
     "exception": false,
     "start_time": "2025-02-11T19:45:42.509082",
     "status": "completed"
    },
    "tags": []
   },
   "outputs": [
    {
     "name": "stdout",
     "output_type": "stream",
     "text": [
      "[ True  True  True  True]\n"
     ]
    }
   ],
   "source": [
    "a=np.array([1,2,3,45],dtype=bool)\n",
    "print(a)"
   ]
  },
  {
   "cell_type": "code",
   "execution_count": 8,
   "id": "c4a8595a",
   "metadata": {
    "execution": {
     "iopub.execute_input": "2025-02-11T19:45:42.554806Z",
     "iopub.status.busy": "2025-02-11T19:45:42.554327Z",
     "iopub.status.idle": "2025-02-11T19:45:42.561111Z",
     "shell.execute_reply": "2025-02-11T19:45:42.559570Z"
    },
    "id": "cvoH9ZTiibmz",
    "outputId": "470948a3-fe9a-4721-da55-aa14a7799cdb",
    "papermill": {
     "duration": 0.021327,
     "end_time": "2025-02-11T19:45:42.563097",
     "exception": false,
     "start_time": "2025-02-11T19:45:42.541770",
     "status": "completed"
    },
    "tags": []
   },
   "outputs": [
    {
     "name": "stdout",
     "output_type": "stream",
     "text": [
      "[0 1 2 3 4 5 6 7 8 9]\n"
     ]
    }
   ],
   "source": [
    "arr=np.arange(10)\n",
    "print(arr)"
   ]
  },
  {
   "cell_type": "code",
   "execution_count": 9,
   "id": "1ecdd5f5",
   "metadata": {
    "execution": {
     "iopub.execute_input": "2025-02-11T19:45:42.587282Z",
     "iopub.status.busy": "2025-02-11T19:45:42.586796Z",
     "iopub.status.idle": "2025-02-11T19:45:42.593346Z",
     "shell.execute_reply": "2025-02-11T19:45:42.592045Z"
    },
    "id": "d0GIRRhriwf6",
    "outputId": "7a334a8f-9ce3-4e31-ea9c-eb3093b5a81d",
    "papermill": {
     "duration": 0.020899,
     "end_time": "2025-02-11T19:45:42.595184",
     "exception": false,
     "start_time": "2025-02-11T19:45:42.574285",
     "status": "completed"
    },
    "tags": []
   },
   "outputs": [
    {
     "name": "stdout",
     "output_type": "stream",
     "text": [
      "[2. 5. 8.]\n"
     ]
    }
   ],
   "source": [
    "arr=np.arange(2,10,3,dtype=float)\n",
    "print(arr)"
   ]
  },
  {
   "cell_type": "code",
   "execution_count": 10,
   "id": "9ec1cc23",
   "metadata": {
    "execution": {
     "iopub.execute_input": "2025-02-11T19:45:42.620062Z",
     "iopub.status.busy": "2025-02-11T19:45:42.619664Z",
     "iopub.status.idle": "2025-02-11T19:45:42.626300Z",
     "shell.execute_reply": "2025-02-11T19:45:42.625161Z"
    },
    "id": "HEKp6_yri-oI",
    "outputId": "5a0d4c9c-e969-4e58-b8fa-6c3c54a871b6",
    "papermill": {
     "duration": 0.020913,
     "end_time": "2025-02-11T19:45:42.628041",
     "exception": false,
     "start_time": "2025-02-11T19:45:42.607128",
     "status": "completed"
    },
    "tags": []
   },
   "outputs": [
    {
     "data": {
      "text/plain": [
       "array([1. , 1.6, 2.2, 2.8, 3.4, 4. ])"
      ]
     },
     "execution_count": 10,
     "metadata": {},
     "output_type": "execute_result"
    }
   ],
   "source": [
    "np.linspace(1,4,6)"
   ]
  },
  {
   "cell_type": "code",
   "execution_count": 11,
   "id": "237b37a1",
   "metadata": {
    "execution": {
     "iopub.execute_input": "2025-02-11T19:45:42.650771Z",
     "iopub.status.busy": "2025-02-11T19:45:42.650426Z",
     "iopub.status.idle": "2025-02-11T19:45:42.656789Z",
     "shell.execute_reply": "2025-02-11T19:45:42.655721Z"
    },
    "id": "bVofHbeBjMY9",
    "outputId": "7a8b3f98-7915-427f-b75a-414943b63da5",
    "papermill": {
     "duration": 0.019327,
     "end_time": "2025-02-11T19:45:42.658285",
     "exception": false,
     "start_time": "2025-02-11T19:45:42.638958",
     "status": "completed"
    },
    "tags": []
   },
   "outputs": [
    {
     "data": {
      "text/plain": [
       "array([[1.+0.j, 0.+0.j, 0.+0.j],\n",
       "       [0.+0.j, 1.+0.j, 0.+0.j],\n",
       "       [0.+0.j, 0.+0.j, 1.+0.j]])"
      ]
     },
     "execution_count": 11,
     "metadata": {},
     "output_type": "execute_result"
    }
   ],
   "source": [
    "np.eye(3,3,dtype=complex)"
   ]
  },
  {
   "cell_type": "code",
   "execution_count": 12,
   "id": "f3835a04",
   "metadata": {
    "execution": {
     "iopub.execute_input": "2025-02-11T19:45:42.681120Z",
     "iopub.status.busy": "2025-02-11T19:45:42.680796Z",
     "iopub.status.idle": "2025-02-11T19:45:42.686534Z",
     "shell.execute_reply": "2025-02-11T19:45:42.685653Z"
    },
    "id": "5kg6WKA3jtnh",
    "outputId": "9d2bc093-369f-49cf-b081-716d0be2dd59",
    "papermill": {
     "duration": 0.018663,
     "end_time": "2025-02-11T19:45:42.688007",
     "exception": false,
     "start_time": "2025-02-11T19:45:42.669344",
     "status": "completed"
    },
    "tags": []
   },
   "outputs": [
    {
     "data": {
      "text/plain": [
       "array([[1, 0, 0, 0, 0],\n",
       "       [0, 1, 0, 0, 0],\n",
       "       [0, 0, 1, 0, 0]])"
      ]
     },
     "execution_count": 12,
     "metadata": {},
     "output_type": "execute_result"
    }
   ],
   "source": [
    "np.eye(3,5,k=0,dtype=int)\n",
    "#k is diag val where you want 1"
   ]
  },
  {
   "cell_type": "code",
   "execution_count": 13,
   "id": "75fca679",
   "metadata": {
    "execution": {
     "iopub.execute_input": "2025-02-11T19:45:42.711429Z",
     "iopub.status.busy": "2025-02-11T19:45:42.711044Z",
     "iopub.status.idle": "2025-02-11T19:45:42.717593Z",
     "shell.execute_reply": "2025-02-11T19:45:42.716557Z"
    },
    "id": "InWoX-NYkQyv",
    "outputId": "c1246e21-63f8-45a0-df1a-3d7a2d8f786a",
    "papermill": {
     "duration": 0.019801,
     "end_time": "2025-02-11T19:45:42.719117",
     "exception": false,
     "start_time": "2025-02-11T19:45:42.699316",
     "status": "completed"
    },
    "tags": []
   },
   "outputs": [
    {
     "data": {
      "text/plain": [
       "array([1, 5, 9])"
      ]
     },
     "execution_count": 13,
     "metadata": {},
     "output_type": "execute_result"
    }
   ],
   "source": [
    "np.diag([[1,2,3],[4,5,6],[7,8,9]])"
   ]
  },
  {
   "cell_type": "code",
   "execution_count": 14,
   "id": "733dd053",
   "metadata": {
    "execution": {
     "iopub.execute_input": "2025-02-11T19:45:42.742836Z",
     "iopub.status.busy": "2025-02-11T19:45:42.742480Z",
     "iopub.status.idle": "2025-02-11T19:45:42.750210Z",
     "shell.execute_reply": "2025-02-11T19:45:42.749210Z"
    },
    "id": "R7KjKHoukzNS",
    "outputId": "4bfe4263-a651-412a-8398-b852aba211bf",
    "papermill": {
     "duration": 0.021297,
     "end_time": "2025-02-11T19:45:42.751874",
     "exception": false,
     "start_time": "2025-02-11T19:45:42.730577",
     "status": "completed"
    },
    "tags": []
   },
   "outputs": [
    {
     "data": {
      "text/plain": [
       "array([[ 1,  1,  1,  1],\n",
       "       [ 1,  2,  4,  8],\n",
       "       [ 1,  3,  9, 27],\n",
       "       [ 1,  4, 16, 64]])"
      ]
     },
     "execution_count": 14,
     "metadata": {},
     "output_type": "execute_result"
    }
   ],
   "source": [
    "np.vander([1,2,3,4],N=4,increasing=True)"
   ]
  },
  {
   "cell_type": "code",
   "execution_count": 15,
   "id": "ec893d04",
   "metadata": {
    "execution": {
     "iopub.execute_input": "2025-02-11T19:45:42.776182Z",
     "iopub.status.busy": "2025-02-11T19:45:42.775801Z",
     "iopub.status.idle": "2025-02-11T19:45:42.782568Z",
     "shell.execute_reply": "2025-02-11T19:45:42.781462Z"
    },
    "id": "IkrKshaKmMt_",
    "outputId": "1ff0ba9e-105a-4597-e745-4e1bed208067",
    "papermill": {
     "duration": 0.02061,
     "end_time": "2025-02-11T19:45:42.784212",
     "exception": false,
     "start_time": "2025-02-11T19:45:42.763602",
     "status": "completed"
    },
    "tags": []
   },
   "outputs": [
    {
     "data": {
      "text/plain": [
       "array([[ 1,  1,  1],\n",
       "       [ 1,  2,  4],\n",
       "       [ 1,  3,  9],\n",
       "       [ 1,  4, 16]])"
      ]
     },
     "execution_count": 15,
     "metadata": {},
     "output_type": "execute_result"
    }
   ],
   "source": [
    "np.vander([1,2,3,4],N=3,increasing=True)"
   ]
  },
  {
   "cell_type": "code",
   "execution_count": 16,
   "id": "0f4fc149",
   "metadata": {
    "execution": {
     "iopub.execute_input": "2025-02-11T19:45:42.809024Z",
     "iopub.status.busy": "2025-02-11T19:45:42.808640Z",
     "iopub.status.idle": "2025-02-11T19:45:42.815349Z",
     "shell.execute_reply": "2025-02-11T19:45:42.814260Z"
    },
    "id": "c0Sv88w8mRJx",
    "outputId": "16540bd4-7798-4f02-9a6b-5394887d5c31",
    "papermill": {
     "duration": 0.021342,
     "end_time": "2025-02-11T19:45:42.817158",
     "exception": false,
     "start_time": "2025-02-11T19:45:42.795816",
     "status": "completed"
    },
    "tags": []
   },
   "outputs": [
    {
     "data": {
      "text/plain": [
       "array([[[1, 1, 1],\n",
       "        [1, 1, 1],\n",
       "        [1, 1, 1],\n",
       "        [1, 1, 1]],\n",
       "\n",
       "       [[1, 1, 1],\n",
       "        [1, 1, 1],\n",
       "        [1, 1, 1],\n",
       "        [1, 1, 1]],\n",
       "\n",
       "       [[1, 1, 1],\n",
       "        [1, 1, 1],\n",
       "        [1, 1, 1],\n",
       "        [1, 1, 1]],\n",
       "\n",
       "       [[1, 1, 1],\n",
       "        [1, 1, 1],\n",
       "        [1, 1, 1],\n",
       "        [1, 1, 1]],\n",
       "\n",
       "       [[1, 1, 1],\n",
       "        [1, 1, 1],\n",
       "        [1, 1, 1],\n",
       "        [1, 1, 1]]])"
      ]
     },
     "execution_count": 16,
     "metadata": {},
     "output_type": "execute_result"
    }
   ],
   "source": [
    "np.ones((5,4,3),dtype=int,like=None)\n",
    "# first number tells number of matrices"
   ]
  },
  {
   "cell_type": "code",
   "execution_count": 17,
   "id": "3a755876",
   "metadata": {
    "execution": {
     "iopub.execute_input": "2025-02-11T19:45:42.841712Z",
     "iopub.status.busy": "2025-02-11T19:45:42.841365Z",
     "iopub.status.idle": "2025-02-11T19:45:42.847846Z",
     "shell.execute_reply": "2025-02-11T19:45:42.846725Z"
    },
    "id": "H8r5KPIIm0OD",
    "outputId": "164c4ced-cbb0-4ff7-ded0-65f1afb4256e",
    "papermill": {
     "duration": 0.020777,
     "end_time": "2025-02-11T19:45:42.849673",
     "exception": false,
     "start_time": "2025-02-11T19:45:42.828896",
     "status": "completed"
    },
    "tags": []
   },
   "outputs": [
    {
     "data": {
      "text/plain": [
       "array([[[0., 0., 0.],\n",
       "        [0., 0., 0.]],\n",
       "\n",
       "       [[0., 0., 0.],\n",
       "        [0., 0., 0.]],\n",
       "\n",
       "       [[0., 0., 0.],\n",
       "        [0., 0., 0.]],\n",
       "\n",
       "       [[0., 0., 0.],\n",
       "        [0., 0., 0.]]])"
      ]
     },
     "execution_count": 17,
     "metadata": {},
     "output_type": "execute_result"
    }
   ],
   "source": [
    "np.zeros((4,2,3),dtype=None,order='C',like=None)"
   ]
  },
  {
   "cell_type": "code",
   "execution_count": 18,
   "id": "a9f1378c",
   "metadata": {
    "execution": {
     "iopub.execute_input": "2025-02-11T19:45:42.875279Z",
     "iopub.status.busy": "2025-02-11T19:45:42.874911Z",
     "iopub.status.idle": "2025-02-11T19:45:42.880675Z",
     "shell.execute_reply": "2025-02-11T19:45:42.879347Z"
    },
    "id": "iUkQ1s9Tnc_o",
    "outputId": "13fd627a-d887-4a7e-becc-d49fc8e272e6",
    "papermill": {
     "duration": 0.020971,
     "end_time": "2025-02-11T19:45:42.882409",
     "exception": false,
     "start_time": "2025-02-11T19:45:42.861438",
     "status": "completed"
    },
    "tags": []
   },
   "outputs": [
    {
     "name": "stdout",
     "output_type": "stream",
     "text": [
      "[[[0 0 0]\n",
      "  [0 0 0]]\n",
      "\n",
      " [[0 0 0]\n",
      "  [0 0 0]]\n",
      "\n",
      " [[0 0 0]\n",
      "  [0 0 0]]]\n"
     ]
    }
   ],
   "source": [
    "b = np.zeros((3, 2, 3),dtype=int,order='F')\n",
    "print(b)\n"
   ]
  },
  {
   "cell_type": "code",
   "execution_count": 19,
   "id": "e0deb887",
   "metadata": {
    "execution": {
     "iopub.execute_input": "2025-02-11T19:45:42.907444Z",
     "iopub.status.busy": "2025-02-11T19:45:42.907066Z",
     "iopub.status.idle": "2025-02-11T19:45:42.913308Z",
     "shell.execute_reply": "2025-02-11T19:45:42.912223Z"
    },
    "id": "b4KRazF5qQMT",
    "outputId": "0a2cf2b1-eb29-44ec-e5ba-afa9d88d9353",
    "papermill": {
     "duration": 0.020841,
     "end_time": "2025-02-11T19:45:42.915083",
     "exception": false,
     "start_time": "2025-02-11T19:45:42.894242",
     "status": "completed"
    },
    "tags": []
   },
   "outputs": [
    {
     "data": {
      "text/plain": [
       "array([[1. , 1.6, 2.2],\n",
       "       [2.8, 3.4, 4. ]])"
      ]
     },
     "execution_count": 19,
     "metadata": {},
     "output_type": "execute_result"
    }
   ],
   "source": [
    "np.empty((2,3))"
   ]
  },
  {
   "cell_type": "code",
   "execution_count": 20,
   "id": "b5cec353",
   "metadata": {
    "execution": {
     "iopub.execute_input": "2025-02-11T19:45:42.940612Z",
     "iopub.status.busy": "2025-02-11T19:45:42.940245Z",
     "iopub.status.idle": "2025-02-11T19:45:42.944545Z",
     "shell.execute_reply": "2025-02-11T19:45:42.943646Z"
    },
    "id": "Ok-0OplARt7h",
    "papermill": {
     "duration": 0.019041,
     "end_time": "2025-02-11T19:45:42.946218",
     "exception": false,
     "start_time": "2025-02-11T19:45:42.927177",
     "status": "completed"
    },
    "tags": []
   },
   "outputs": [],
   "source": [
    "a=np.array([1,2,3,4,5,6])\n",
    "a=a.reshape((2,3))"
   ]
  },
  {
   "cell_type": "code",
   "execution_count": 21,
   "id": "e737ff87",
   "metadata": {
    "execution": {
     "iopub.execute_input": "2025-02-11T19:45:42.970960Z",
     "iopub.status.busy": "2025-02-11T19:45:42.970637Z",
     "iopub.status.idle": "2025-02-11T19:45:42.976174Z",
     "shell.execute_reply": "2025-02-11T19:45:42.975117Z"
    },
    "id": "Qo2scTXm_P4b",
    "outputId": "134d8782-3634-4255-bc25-3330499d5c3d",
    "papermill": {
     "duration": 0.019794,
     "end_time": "2025-02-11T19:45:42.977700",
     "exception": false,
     "start_time": "2025-02-11T19:45:42.957906",
     "status": "completed"
    },
    "tags": []
   },
   "outputs": [
    {
     "name": "stdout",
     "output_type": "stream",
     "text": [
      "[[2 3 4]\n",
      " [5 6 7]]\n"
     ]
    }
   ],
   "source": [
    "b=a[:4]\n",
    "b+=1\n",
    "print(b)"
   ]
  },
  {
   "cell_type": "code",
   "execution_count": 22,
   "id": "ed87ed48",
   "metadata": {
    "execution": {
     "iopub.execute_input": "2025-02-11T19:45:43.003559Z",
     "iopub.status.busy": "2025-02-11T19:45:43.003135Z",
     "iopub.status.idle": "2025-02-11T19:45:43.008593Z",
     "shell.execute_reply": "2025-02-11T19:45:43.007340Z"
    },
    "id": "mjSRt1fs_Yr6",
    "outputId": "c9196b24-9673-4a78-adf0-5945602a5772",
    "papermill": {
     "duration": 0.020386,
     "end_time": "2025-02-11T19:45:43.010370",
     "exception": false,
     "start_time": "2025-02-11T19:45:42.989984",
     "status": "completed"
    },
    "tags": []
   },
   "outputs": [
    {
     "name": "stdout",
     "output_type": "stream",
     "text": [
      "[[2 3 4]\n",
      " [5 6 7]]\n"
     ]
    }
   ],
   "source": [
    "c=a.copy()\n",
    "print(c)"
   ]
  },
  {
   "cell_type": "code",
   "execution_count": 23,
   "id": "34d375c7",
   "metadata": {
    "execution": {
     "iopub.execute_input": "2025-02-11T19:45:43.035880Z",
     "iopub.status.busy": "2025-02-11T19:45:43.035553Z",
     "iopub.status.idle": "2025-02-11T19:45:43.042142Z",
     "shell.execute_reply": "2025-02-11T19:45:43.041314Z"
    },
    "id": "o4X9xvUY_vKH",
    "outputId": "f06434c7-296c-4397-c60b-f230633d3b66",
    "papermill": {
     "duration": 0.021342,
     "end_time": "2025-02-11T19:45:43.043916",
     "exception": false,
     "start_time": "2025-02-11T19:45:43.022574",
     "status": "completed"
    },
    "tags": []
   },
   "outputs": [
    {
     "data": {
      "text/plain": [
       "array([[1, 1, 0, 0],\n",
       "       [1, 1, 0, 0]])"
      ]
     },
     "execution_count": 23,
     "metadata": {},
     "output_type": "execute_result"
    }
   ],
   "source": [
    "A=np.zeros((2,2),dtype=int)\n",
    "B=np.ones((2,2),dtype=int)\n",
    "np.concatenate((B,A),axis=1)"
   ]
  },
  {
   "cell_type": "code",
   "execution_count": 24,
   "id": "931a5eaa",
   "metadata": {
    "execution": {
     "iopub.execute_input": "2025-02-11T19:45:43.069729Z",
     "iopub.status.busy": "2025-02-11T19:45:43.069395Z",
     "iopub.status.idle": "2025-02-11T19:45:43.075138Z",
     "shell.execute_reply": "2025-02-11T19:45:43.074286Z"
    },
    "id": "uYBBbc0tA8Dy",
    "outputId": "5507f0e5-88a4-4d58-9c8f-0d9063966224",
    "papermill": {
     "duration": 0.020483,
     "end_time": "2025-02-11T19:45:43.076633",
     "exception": false,
     "start_time": "2025-02-11T19:45:43.056150",
     "status": "completed"
    },
    "tags": []
   },
   "outputs": [
    {
     "data": {
      "text/plain": [
       "array([[0, 0, 1, 1],\n",
       "       [0, 0, 1, 1]])"
      ]
     },
     "execution_count": 24,
     "metadata": {},
     "output_type": "execute_result"
    }
   ],
   "source": [
    "np.block([A,B])"
   ]
  },
  {
   "cell_type": "code",
   "execution_count": 25,
   "id": "3a79c960",
   "metadata": {
    "execution": {
     "iopub.execute_input": "2025-02-11T19:45:43.102835Z",
     "iopub.status.busy": "2025-02-11T19:45:43.102464Z",
     "iopub.status.idle": "2025-02-11T19:45:43.109124Z",
     "shell.execute_reply": "2025-02-11T19:45:43.108139Z"
    },
    "id": "IIpFLw1fBYS3",
    "outputId": "2b16071a-79d2-4d64-caea-1092e6404875",
    "papermill": {
     "duration": 0.021805,
     "end_time": "2025-02-11T19:45:43.110916",
     "exception": false,
     "start_time": "2025-02-11T19:45:43.089111",
     "status": "completed"
    },
    "tags": []
   },
   "outputs": [
    {
     "data": {
      "text/plain": [
       "array([[0, 0],\n",
       "       [0, 0],\n",
       "       [1, 1],\n",
       "       [1, 1]])"
      ]
     },
     "execution_count": 25,
     "metadata": {},
     "output_type": "execute_result"
    }
   ],
   "source": [
    "np.vstack((A,B))"
   ]
  },
  {
   "cell_type": "code",
   "execution_count": 26,
   "id": "3158999d",
   "metadata": {
    "execution": {
     "iopub.execute_input": "2025-02-11T19:45:43.138105Z",
     "iopub.status.busy": "2025-02-11T19:45:43.137777Z",
     "iopub.status.idle": "2025-02-11T19:45:43.143872Z",
     "shell.execute_reply": "2025-02-11T19:45:43.142963Z"
    },
    "id": "J08sEsxrBhkP",
    "outputId": "74fe21dc-8a6f-4399-aeba-e0acbb2d79cf",
    "papermill": {
     "duration": 0.021543,
     "end_time": "2025-02-11T19:45:43.145565",
     "exception": false,
     "start_time": "2025-02-11T19:45:43.124022",
     "status": "completed"
    },
    "tags": []
   },
   "outputs": [
    {
     "data": {
      "text/plain": [
       "array([[0, 0, 1, 1],\n",
       "       [0, 0, 1, 1]])"
      ]
     },
     "execution_count": 26,
     "metadata": {},
     "output_type": "execute_result"
    }
   ],
   "source": [
    "np.hstack((A,B))"
   ]
  },
  {
   "cell_type": "code",
   "execution_count": 27,
   "id": "e6836b83",
   "metadata": {
    "execution": {
     "iopub.execute_input": "2025-02-11T19:45:43.171924Z",
     "iopub.status.busy": "2025-02-11T19:45:43.171572Z",
     "iopub.status.idle": "2025-02-11T19:45:43.175567Z",
     "shell.execute_reply": "2025-02-11T19:45:43.174478Z"
    },
    "id": "XnAoqaTFDh9O",
    "papermill": {
     "duration": 0.018945,
     "end_time": "2025-02-11T19:45:43.177253",
     "exception": false,
     "start_time": "2025-02-11T19:45:43.158308",
     "status": "completed"
    },
    "tags": []
   },
   "outputs": [],
   "source": [
    "#a = np.loadtxt('D:/prc.txt', dtype=int, delimiter=',')\n"
   ]
  },
  {
   "cell_type": "code",
   "execution_count": 28,
   "id": "a4c61822",
   "metadata": {
    "execution": {
     "iopub.execute_input": "2025-02-11T19:45:43.204869Z",
     "iopub.status.busy": "2025-02-11T19:45:43.204483Z",
     "iopub.status.idle": "2025-02-11T19:45:43.210718Z",
     "shell.execute_reply": "2025-02-11T19:45:43.209661Z"
    },
    "id": "zZMCp35MDk2V",
    "outputId": "fd8068bc-4a3f-4651-ab1f-e5e05cd0b1ac",
    "papermill": {
     "duration": 0.021923,
     "end_time": "2025-02-11T19:45:43.212537",
     "exception": false,
     "start_time": "2025-02-11T19:45:43.190614",
     "status": "completed"
    },
    "tags": []
   },
   "outputs": [
    {
     "data": {
      "text/plain": [
       "array([[0.05833514, 0.36313787, 0.7737563 ],\n",
       "       [0.92103139, 0.21301503, 0.02651095]])"
      ]
     },
     "execution_count": 28,
     "metadata": {},
     "output_type": "execute_result"
    }
   ],
   "source": [
    "np.random.rand(2,3)"
   ]
  },
  {
   "cell_type": "code",
   "execution_count": 29,
   "id": "437ce281",
   "metadata": {
    "execution": {
     "iopub.execute_input": "2025-02-11T19:45:43.239402Z",
     "iopub.status.busy": "2025-02-11T19:45:43.238991Z",
     "iopub.status.idle": "2025-02-11T19:45:43.244490Z",
     "shell.execute_reply": "2025-02-11T19:45:43.243236Z"
    },
    "id": "N6WpA2PCEE2g",
    "outputId": "7b31f9f5-abef-470f-da7b-00b048e371b0",
    "papermill": {
     "duration": 0.020766,
     "end_time": "2025-02-11T19:45:43.246114",
     "exception": false,
     "start_time": "2025-02-11T19:45:43.225348",
     "status": "completed"
    },
    "tags": []
   },
   "outputs": [
    {
     "name": "stdout",
     "output_type": "stream",
     "text": [
      "[[ 0  1  2  3  4]\n",
      " [ 5  6  7  8  9]\n",
      " [10 11 12 13 14]\n",
      " [15 16 17 18 19]\n",
      " [20 21 22 23 24]]\n"
     ]
    }
   ],
   "source": [
    "d=np.array([i for i in range(0,25)]).reshape((5,5))\n",
    "print(d)"
   ]
  },
  {
   "cell_type": "code",
   "execution_count": 30,
   "id": "399575f6",
   "metadata": {
    "execution": {
     "iopub.execute_input": "2025-02-11T19:45:43.273667Z",
     "iopub.status.busy": "2025-02-11T19:45:43.273251Z",
     "iopub.status.idle": "2025-02-11T19:45:43.278712Z",
     "shell.execute_reply": "2025-02-11T19:45:43.277715Z"
    },
    "id": "bwc8pvo7Fu_Q",
    "outputId": "a655c69d-0c53-4297-aa46-24380294821c",
    "papermill": {
     "duration": 0.021234,
     "end_time": "2025-02-11T19:45:43.280462",
     "exception": false,
     "start_time": "2025-02-11T19:45:43.259228",
     "status": "completed"
    },
    "tags": []
   },
   "outputs": [
    {
     "name": "stdout",
     "output_type": "stream",
     "text": [
      "[[1 2]\n",
      " [3 4]\n",
      " [7 9]\n",
      " [5 6]]\n"
     ]
    }
   ],
   "source": [
    "a=np.array([1,2,3,4,7,9,5,6])\n",
    "a=a.reshape((4,2))\n",
    "print(a)"
   ]
  },
  {
   "cell_type": "code",
   "execution_count": 31,
   "id": "57135bae",
   "metadata": {
    "execution": {
     "iopub.execute_input": "2025-02-11T19:45:43.311419Z",
     "iopub.status.busy": "2025-02-11T19:45:43.311004Z",
     "iopub.status.idle": "2025-02-11T19:45:43.316869Z",
     "shell.execute_reply": "2025-02-11T19:45:43.315658Z"
    },
    "id": "L6EeaJQhF3tf",
    "outputId": "15f4b246-90c4-4977-dc7c-bc09da74bf4c",
    "papermill": {
     "duration": 0.022182,
     "end_time": "2025-02-11T19:45:43.318864",
     "exception": false,
     "start_time": "2025-02-11T19:45:43.296682",
     "status": "completed"
    },
    "tags": []
   },
   "outputs": [
    {
     "name": "stdout",
     "output_type": "stream",
     "text": [
      "[1 2 3 4 7 9 5 6]\n"
     ]
    }
   ],
   "source": [
    "a=a.flatten()\n",
    "print(a)"
   ]
  },
  {
   "cell_type": "code",
   "execution_count": 32,
   "id": "0fc4181a",
   "metadata": {
    "execution": {
     "iopub.execute_input": "2025-02-11T19:45:43.348036Z",
     "iopub.status.busy": "2025-02-11T19:45:43.347713Z",
     "iopub.status.idle": "2025-02-11T19:45:43.353828Z",
     "shell.execute_reply": "2025-02-11T19:45:43.352802Z"
    },
    "id": "TOfstXC-GA95",
    "outputId": "24c186b2-806e-4827-f0a2-a2066988f6bd",
    "papermill": {
     "duration": 0.021922,
     "end_time": "2025-02-11T19:45:43.355428",
     "exception": false,
     "start_time": "2025-02-11T19:45:43.333506",
     "status": "completed"
    },
    "tags": []
   },
   "outputs": [
    {
     "name": "stdout",
     "output_type": "stream",
     "text": [
      "[1 2 3 4]\n",
      "[[1 2 3 4]]\n"
     ]
    }
   ],
   "source": [
    "c=1,2,3,4\n",
    "X=np.array(c)\n",
    "print(X)\n",
    "m=np.asmatrix(c)\n",
    "print(m)"
   ]
  },
  {
   "cell_type": "code",
   "execution_count": 33,
   "id": "df10c60a",
   "metadata": {
    "execution": {
     "iopub.execute_input": "2025-02-11T19:45:43.383342Z",
     "iopub.status.busy": "2025-02-11T19:45:43.382923Z",
     "iopub.status.idle": "2025-02-11T19:45:43.389277Z",
     "shell.execute_reply": "2025-02-11T19:45:43.388210Z"
    },
    "id": "wZjdu4OUGz7m",
    "outputId": "bf227f42-63c2-46fd-e9c0-965adce322ef",
    "papermill": {
     "duration": 0.022095,
     "end_time": "2025-02-11T19:45:43.390900",
     "exception": false,
     "start_time": "2025-02-11T19:45:43.368805",
     "status": "completed"
    },
    "tags": []
   },
   "outputs": [
    {
     "data": {
      "text/plain": [
       "array([1., 2., 3., 4.])"
      ]
     },
     "execution_count": 33,
     "metadata": {},
     "output_type": "execute_result"
    }
   ],
   "source": [
    "np.asfarray(c)"
   ]
  },
  {
   "cell_type": "code",
   "execution_count": 34,
   "id": "0b14dc15",
   "metadata": {
    "execution": {
     "iopub.execute_input": "2025-02-11T19:45:43.418923Z",
     "iopub.status.busy": "2025-02-11T19:45:43.418606Z",
     "iopub.status.idle": "2025-02-11T19:45:43.424292Z",
     "shell.execute_reply": "2025-02-11T19:45:43.422759Z"
    },
    "id": "GgUC_Id7G7Ct",
    "outputId": "d580e9af-754a-42af-a25e-d8277c045494",
    "papermill": {
     "duration": 0.021479,
     "end_time": "2025-02-11T19:45:43.425995",
     "exception": false,
     "start_time": "2025-02-11T19:45:43.404516",
     "status": "completed"
    },
    "tags": []
   },
   "outputs": [
    {
     "name": "stdout",
     "output_type": "stream",
     "text": [
      "42\n"
     ]
    }
   ],
   "source": [
    "X = np.array([42])  # Example array\n",
    "scalar = X.item()\n",
    "print(scalar)"
   ]
  },
  {
   "cell_type": "code",
   "execution_count": 35,
   "id": "b79f6c6d",
   "metadata": {
    "execution": {
     "iopub.execute_input": "2025-02-11T19:45:43.513400Z",
     "iopub.status.busy": "2025-02-11T19:45:43.513026Z",
     "iopub.status.idle": "2025-02-11T19:45:43.520460Z",
     "shell.execute_reply": "2025-02-11T19:45:43.519388Z"
    },
    "id": "oWE3dr8kH0WH",
    "outputId": "3487f325-c803-45af-f476-14b9d7143507",
    "papermill": {
     "duration": 0.023698,
     "end_time": "2025-02-11T19:45:43.522093",
     "exception": false,
     "start_time": "2025-02-11T19:45:43.498395",
     "status": "completed"
    },
    "tags": []
   },
   "outputs": [
    {
     "name": "stdout",
     "output_type": "stream",
     "text": [
      "[ 1  3  5  7  9 11]\n"
     ]
    },
    {
     "data": {
      "text/plain": [
       "[array([1, 3]), array([5, 7]), array([ 9, 11])]"
      ]
     },
     "execution_count": 35,
     "metadata": {},
     "output_type": "execute_result"
    }
   ],
   "source": [
    "x=np.arange(1,12,2)\n",
    "print(x)\n",
    "#np.split(x,3)\n",
    "np.hsplit(x,3)"
   ]
  },
  {
   "cell_type": "code",
   "execution_count": 36,
   "id": "555bc999",
   "metadata": {
    "execution": {
     "iopub.execute_input": "2025-02-11T19:45:43.552020Z",
     "iopub.status.busy": "2025-02-11T19:45:43.551692Z",
     "iopub.status.idle": "2025-02-11T19:45:43.557983Z",
     "shell.execute_reply": "2025-02-11T19:45:43.556909Z"
    },
    "id": "zmoawj-CORy4",
    "outputId": "66d6b9b0-469f-473e-eca0-7b9f65131d72",
    "papermill": {
     "duration": 0.023819,
     "end_time": "2025-02-11T19:45:43.559736",
     "exception": false,
     "start_time": "2025-02-11T19:45:43.535917",
     "status": "completed"
    },
    "tags": []
   },
   "outputs": [
    {
     "data": {
      "text/plain": [
       "array([[2, 3, 4],\n",
       "       [6, 7, 8]])"
      ]
     },
     "execution_count": 36,
     "metadata": {},
     "output_type": "execute_result"
    }
   ],
   "source": [
    "arr=np.array([[1,2,3,4],[5,6,7,8]])\n",
    "np.delete(arr,0,1)"
   ]
  },
  {
   "cell_type": "code",
   "execution_count": 37,
   "id": "03c7603d",
   "metadata": {
    "execution": {
     "iopub.execute_input": "2025-02-11T19:45:43.589072Z",
     "iopub.status.busy": "2025-02-11T19:45:43.588711Z",
     "iopub.status.idle": "2025-02-11T19:45:43.595416Z",
     "shell.execute_reply": "2025-02-11T19:45:43.594359Z"
    },
    "id": "qb4lmHmlSzV9",
    "outputId": "3b5a7bd9-b0cc-48cd-9ff3-c32662e6d2a8",
    "papermill": {
     "duration": 0.023128,
     "end_time": "2025-02-11T19:45:43.597033",
     "exception": false,
     "start_time": "2025-02-11T19:45:43.573905",
     "status": "completed"
    },
    "tags": []
   },
   "outputs": [
    {
     "data": {
      "text/plain": [
       "array([1, 1, 1, 2, 2])"
      ]
     },
     "execution_count": 37,
     "metadata": {},
     "output_type": "execute_result"
    }
   ],
   "source": [
    "arr=np.array([[1,1],[2,2]])\n",
    "np.insert(arr,1,1)"
   ]
  },
  {
   "cell_type": "code",
   "execution_count": null,
   "id": "bc0ffc83",
   "metadata": {
    "id": "mQwSoLUHBIbm",
    "papermill": {
     "duration": 0.013902,
     "end_time": "2025-02-11T19:45:43.624819",
     "exception": false,
     "start_time": "2025-02-11T19:45:43.610917",
     "status": "completed"
    },
    "tags": []
   },
   "outputs": [],
   "source": []
  },
  {
   "cell_type": "code",
   "execution_count": 38,
   "id": "54748d58",
   "metadata": {
    "execution": {
     "iopub.execute_input": "2025-02-11T19:45:43.653730Z",
     "iopub.status.busy": "2025-02-11T19:45:43.653345Z",
     "iopub.status.idle": "2025-02-11T19:45:43.660721Z",
     "shell.execute_reply": "2025-02-11T19:45:43.659541Z"
    },
    "id": "tMtcb6F9T3Re",
    "outputId": "562fb491-9d8e-4baf-b367-7ecbb14a8437",
    "papermill": {
     "duration": 0.023921,
     "end_time": "2025-02-11T19:45:43.662591",
     "exception": false,
     "start_time": "2025-02-11T19:45:43.638670",
     "status": "completed"
    },
    "tags": []
   },
   "outputs": [
    {
     "data": {
      "text/plain": [
       "array([[1, 2, 3, 9],\n",
       "       [5, 6, 7, 4]])"
      ]
     },
     "execution_count": 38,
     "metadata": {},
     "output_type": "execute_result"
    }
   ],
   "source": [
    "np.append([[1,2,3],[5,6,7]],[[9],[4]],axis=1)"
   ]
  },
  {
   "cell_type": "code",
   "execution_count": 39,
   "id": "93d4e1ab",
   "metadata": {
    "execution": {
     "iopub.execute_input": "2025-02-11T19:45:43.691892Z",
     "iopub.status.busy": "2025-02-11T19:45:43.691542Z",
     "iopub.status.idle": "2025-02-11T19:45:43.698311Z",
     "shell.execute_reply": "2025-02-11T19:45:43.697365Z"
    },
    "id": "QVWTlba0BvDj",
    "outputId": "6b0b5ec3-0258-48d7-88a2-410dcf5e58bc",
    "papermill": {
     "duration": 0.023081,
     "end_time": "2025-02-11T19:45:43.699816",
     "exception": false,
     "start_time": "2025-02-11T19:45:43.676735",
     "status": "completed"
    },
    "tags": []
   },
   "outputs": [
    {
     "data": {
      "text/plain": [
       "array([1, 2, 3, 0, 1])"
      ]
     },
     "execution_count": 39,
     "metadata": {},
     "output_type": "execute_result"
    }
   ],
   "source": [
    "a=np.array((0,0,0,1,2,3,0,1,0))\n",
    "np.trim_zeros(a)"
   ]
  },
  {
   "cell_type": "code",
   "execution_count": 40,
   "id": "de721226",
   "metadata": {
    "execution": {
     "iopub.execute_input": "2025-02-11T19:45:43.729568Z",
     "iopub.status.busy": "2025-02-11T19:45:43.729150Z",
     "iopub.status.idle": "2025-02-11T19:45:43.737612Z",
     "shell.execute_reply": "2025-02-11T19:45:43.736537Z"
    },
    "id": "QMkW9FApCCqm",
    "outputId": "a28d817f-4a5d-42ba-ba8c-164901705f60",
    "papermill": {
     "duration": 0.025359,
     "end_time": "2025-02-11T19:45:43.739340",
     "exception": false,
     "start_time": "2025-02-11T19:45:43.713981",
     "status": "completed"
    },
    "tags": []
   },
   "outputs": [
    {
     "data": {
      "text/plain": [
       "array([0, 1, 2, 3])"
      ]
     },
     "execution_count": 40,
     "metadata": {},
     "output_type": "execute_result"
    }
   ],
   "source": [
    "a=np.array((0,0,0,2,3,0,1,0))\n",
    "np.unique(a)"
   ]
  },
  {
   "cell_type": "code",
   "execution_count": 41,
   "id": "227147df",
   "metadata": {
    "execution": {
     "iopub.execute_input": "2025-02-11T19:45:43.769057Z",
     "iopub.status.busy": "2025-02-11T19:45:43.768722Z",
     "iopub.status.idle": "2025-02-11T19:45:43.774916Z",
     "shell.execute_reply": "2025-02-11T19:45:43.773619Z"
    },
    "id": "s3kqNykhCpZS",
    "outputId": "31ce349e-9849-4aa5-8704-1f315facb8da",
    "papermill": {
     "duration": 0.022886,
     "end_time": "2025-02-11T19:45:43.776568",
     "exception": false,
     "start_time": "2025-02-11T19:45:43.753682",
     "status": "completed"
    },
    "tags": []
   },
   "outputs": [
    {
     "data": {
      "text/plain": [
       "array([[1, 4],\n",
       "       [1, 3]])"
      ]
     },
     "execution_count": 41,
     "metadata": {},
     "output_type": "execute_result"
    }
   ],
   "source": [
    "a=np.array([[4,1],[3,1]])\n",
    "np.sort(a)"
   ]
  },
  {
   "cell_type": "code",
   "execution_count": 42,
   "id": "b888ee02",
   "metadata": {
    "execution": {
     "iopub.execute_input": "2025-02-11T19:45:43.809311Z",
     "iopub.status.busy": "2025-02-11T19:45:43.808916Z",
     "iopub.status.idle": "2025-02-11T19:45:43.815438Z",
     "shell.execute_reply": "2025-02-11T19:45:43.814329Z"
    },
    "id": "J9VC8wUjC8WE",
    "outputId": "0d41ea04-b5b4-4360-9cd8-4f9a8c4c1e86",
    "papermill": {
     "duration": 0.023644,
     "end_time": "2025-02-11T19:45:43.817098",
     "exception": false,
     "start_time": "2025-02-11T19:45:43.793454",
     "status": "completed"
    },
    "tags": []
   },
   "outputs": [
    {
     "data": {
      "text/plain": [
       "array([[0, 1],\n",
       "       [1, 0]])"
      ]
     },
     "execution_count": 42,
     "metadata": {},
     "output_type": "execute_result"
    }
   ],
   "source": [
    "a=np.array([[4,6],[3,1]])\n",
    "np.argsort(a)"
   ]
  },
  {
   "cell_type": "code",
   "execution_count": 43,
   "id": "781d7a40",
   "metadata": {
    "execution": {
     "iopub.execute_input": "2025-02-11T19:45:43.848084Z",
     "iopub.status.busy": "2025-02-11T19:45:43.847753Z",
     "iopub.status.idle": "2025-02-11T19:45:43.855679Z",
     "shell.execute_reply": "2025-02-11T19:45:43.854570Z"
    },
    "id": "9Vm7n-4CDKsP",
    "outputId": "bf8eadf1-7fee-4e43-f1e0-92cf41857362",
    "papermill": {
     "duration": 0.025062,
     "end_time": "2025-02-11T19:45:43.857340",
     "exception": false,
     "start_time": "2025-02-11T19:45:43.832278",
     "status": "completed"
    },
    "tags": []
   },
   "outputs": [
    {
     "data": {
      "text/plain": [
       "array([[2, 1, 3, 4]])"
      ]
     },
     "execution_count": 43,
     "metadata": {},
     "output_type": "execute_result"
    }
   ],
   "source": [
    "a=np.array([[4,1,2,3]])\n",
    "np.partition(a,3)"
   ]
  },
  {
   "cell_type": "code",
   "execution_count": 44,
   "id": "3f233cf0",
   "metadata": {
    "execution": {
     "iopub.execute_input": "2025-02-11T19:45:43.888956Z",
     "iopub.status.busy": "2025-02-11T19:45:43.888604Z",
     "iopub.status.idle": "2025-02-11T19:45:43.897267Z",
     "shell.execute_reply": "2025-02-11T19:45:43.896110Z"
    },
    "id": "wV_tsGgqEKvE",
    "outputId": "eb35e5ee-c43d-43e3-e148-d1147749177b",
    "papermill": {
     "duration": 0.026977,
     "end_time": "2025-02-11T19:45:43.899134",
     "exception": false,
     "start_time": "2025-02-11T19:45:43.872157",
     "status": "completed"
    },
    "tags": []
   },
   "outputs": [
    {
     "name": "stdout",
     "output_type": "stream",
     "text": [
      "[[10 11 12]\n",
      " [13 14 15]]\n"
     ]
    },
    {
     "data": {
      "text/plain": [
       "5"
      ]
     },
     "execution_count": 44,
     "metadata": {},
     "output_type": "execute_result"
    }
   ],
   "source": [
    "a=np.arange(6).reshape(2,3)+10\n",
    "print(a)\n",
    "np.argmax(a)"
   ]
  },
  {
   "cell_type": "code",
   "execution_count": 45,
   "id": "b863cc00",
   "metadata": {
    "execution": {
     "iopub.execute_input": "2025-02-11T19:45:43.931107Z",
     "iopub.status.busy": "2025-02-11T19:45:43.930720Z",
     "iopub.status.idle": "2025-02-11T19:45:43.937271Z",
     "shell.execute_reply": "2025-02-11T19:45:43.936140Z"
    },
    "id": "mEbfm_eHFGoC",
    "outputId": "2879cfbb-bce9-4e59-d76f-5a67947b3fe3",
    "papermill": {
     "duration": 0.024777,
     "end_time": "2025-02-11T19:45:43.938952",
     "exception": false,
     "start_time": "2025-02-11T19:45:43.914175",
     "status": "completed"
    },
    "tags": []
   },
   "outputs": [
    {
     "data": {
      "text/plain": [
       "3"
      ]
     },
     "execution_count": 45,
     "metadata": {},
     "output_type": "execute_result"
    }
   ],
   "source": [
    "a=np.array([[np.nan,4],[2,6]])\n",
    "np.nanargmax(a)"
   ]
  },
  {
   "cell_type": "code",
   "execution_count": 46,
   "id": "32e9d164",
   "metadata": {
    "execution": {
     "iopub.execute_input": "2025-02-11T19:45:43.970384Z",
     "iopub.status.busy": "2025-02-11T19:45:43.969962Z",
     "iopub.status.idle": "2025-02-11T19:45:43.976180Z",
     "shell.execute_reply": "2025-02-11T19:45:43.975066Z"
    },
    "id": "4i_nfXC6FifM",
    "outputId": "f41f9f32-6bee-46b7-d2e2-2a8adb35f658",
    "papermill": {
     "duration": 0.023907,
     "end_time": "2025-02-11T19:45:43.977948",
     "exception": false,
     "start_time": "2025-02-11T19:45:43.954041",
     "status": "completed"
    },
    "tags": []
   },
   "outputs": [
    {
     "data": {
      "text/plain": [
       "0"
      ]
     },
     "execution_count": 46,
     "metadata": {},
     "output_type": "execute_result"
    }
   ],
   "source": [
    "a=np.array([[np.nan,4],[2,6]])\n",
    "np.argmin(a)"
   ]
  },
  {
   "cell_type": "code",
   "execution_count": 47,
   "id": "b8468d93",
   "metadata": {
    "execution": {
     "iopub.execute_input": "2025-02-11T19:45:44.009689Z",
     "iopub.status.busy": "2025-02-11T19:45:44.009354Z",
     "iopub.status.idle": "2025-02-11T19:45:44.015738Z",
     "shell.execute_reply": "2025-02-11T19:45:44.014841Z"
    },
    "id": "jKXxbWtQF11P",
    "outputId": "ddfb8746-0b67-4e36-8d98-862d81882362",
    "papermill": {
     "duration": 0.024079,
     "end_time": "2025-02-11T19:45:44.017313",
     "exception": false,
     "start_time": "2025-02-11T19:45:43.993234",
     "status": "completed"
    },
    "tags": []
   },
   "outputs": [
    {
     "data": {
      "text/plain": [
       "(array([0, 1, 2, 2]), array([0, 1, 0, 1]))"
      ]
     },
     "execution_count": 47,
     "metadata": {},
     "output_type": "execute_result"
    }
   ],
   "source": [
    "a=np.array([[3,0,0],[0,4,0],[5,6,0]])\n",
    "np.nonzero(a)"
   ]
  },
  {
   "cell_type": "code",
   "execution_count": 48,
   "id": "aed4d855",
   "metadata": {
    "execution": {
     "iopub.execute_input": "2025-02-11T19:45:44.049154Z",
     "iopub.status.busy": "2025-02-11T19:45:44.048766Z",
     "iopub.status.idle": "2025-02-11T19:45:44.055067Z",
     "shell.execute_reply": "2025-02-11T19:45:44.054102Z"
    },
    "id": "57lMgraJHBam",
    "outputId": "ccb68276-6e73-4070-d950-874b94a59748",
    "papermill": {
     "duration": 0.024258,
     "end_time": "2025-02-11T19:45:44.056980",
     "exception": false,
     "start_time": "2025-02-11T19:45:44.032722",
     "status": "completed"
    },
    "tags": []
   },
   "outputs": [
    {
     "data": {
      "text/plain": [
       "array([0, 4, 6, 7])"
      ]
     },
     "execution_count": 48,
     "metadata": {},
     "output_type": "execute_result"
    }
   ],
   "source": [
    "a=np.array([[3,0,0],[0,4,0],[5,6,0]])\n",
    "np.flatnonzero(a)"
   ]
  },
  {
   "cell_type": "code",
   "execution_count": 49,
   "id": "7b04a6fc",
   "metadata": {
    "execution": {
     "iopub.execute_input": "2025-02-11T19:45:44.090249Z",
     "iopub.status.busy": "2025-02-11T19:45:44.089829Z",
     "iopub.status.idle": "2025-02-11T19:45:44.096848Z",
     "shell.execute_reply": "2025-02-11T19:45:44.095548Z"
    },
    "id": "r__JvMWjGjh4",
    "outputId": "79598dee-b27c-4338-9e44-ac620f572f75",
    "papermill": {
     "duration": 0.026225,
     "end_time": "2025-02-11T19:45:44.098832",
     "exception": false,
     "start_time": "2025-02-11T19:45:44.072607",
     "status": "completed"
    },
    "tags": []
   },
   "outputs": [
    {
     "data": {
      "text/plain": [
       "array([ 0,  1,  2,  3,  4, 50, 60, 70, 80, 90])"
      ]
     },
     "execution_count": 49,
     "metadata": {},
     "output_type": "execute_result"
    }
   ],
   "source": [
    "a = np.arange(10)\n",
    "np.where(a < 5, a, 10*a)\n"
   ]
  },
  {
   "cell_type": "code",
   "execution_count": 50,
   "id": "14b5614f",
   "metadata": {
    "execution": {
     "iopub.execute_input": "2025-02-11T19:45:44.131716Z",
     "iopub.status.busy": "2025-02-11T19:45:44.131354Z",
     "iopub.status.idle": "2025-02-11T19:45:44.137426Z",
     "shell.execute_reply": "2025-02-11T19:45:44.136391Z"
    },
    "id": "4UZSt_YzIHL0",
    "outputId": "42b4da3f-cde2-49ef-daf5-9496381b885c",
    "papermill": {
     "duration": 0.024254,
     "end_time": "2025-02-11T19:45:44.139087",
     "exception": false,
     "start_time": "2025-02-11T19:45:44.114833",
     "status": "completed"
    },
    "tags": []
   },
   "outputs": [
    {
     "data": {
      "text/plain": [
       "4"
      ]
     },
     "execution_count": 50,
     "metadata": {},
     "output_type": "execute_result"
    }
   ],
   "source": [
    "np.count_nonzero(np.eye(4))\n"
   ]
  },
  {
   "cell_type": "code",
   "execution_count": 51,
   "id": "0d371b38",
   "metadata": {
    "execution": {
     "iopub.execute_input": "2025-02-11T19:45:44.171939Z",
     "iopub.status.busy": "2025-02-11T19:45:44.171617Z",
     "iopub.status.idle": "2025-02-11T19:45:44.177846Z",
     "shell.execute_reply": "2025-02-11T19:45:44.176896Z"
    },
    "id": "e1WHZeDzIZ1_",
    "outputId": "90f764b9-d2e3-40c0-e215-494c33d79b8c",
    "papermill": {
     "duration": 0.024563,
     "end_time": "2025-02-11T19:45:44.179458",
     "exception": false,
     "start_time": "2025-02-11T19:45:44.154895",
     "status": "completed"
    },
    "tags": []
   },
   "outputs": [
    {
     "data": {
      "text/plain": [
       "array([[4, 1],\n",
       "       [2, 2]])"
      ]
     },
     "execution_count": 51,
     "metadata": {},
     "output_type": "execute_result"
    }
   ],
   "source": [
    "a = [[1, 0], [0, 1]]\n",
    "b = [[4, 1], [2, 2]]\n",
    "np.dot(a, b)\n"
   ]
  },
  {
   "cell_type": "code",
   "execution_count": 52,
   "id": "92858a43",
   "metadata": {
    "execution": {
     "iopub.execute_input": "2025-02-11T19:45:44.211965Z",
     "iopub.status.busy": "2025-02-11T19:45:44.211644Z",
     "iopub.status.idle": "2025-02-11T19:45:44.218286Z",
     "shell.execute_reply": "2025-02-11T19:45:44.217137Z"
    },
    "id": "lrRHf6xJIf2Y",
    "outputId": "36f309df-1e53-40f0-f1a6-ffa7e97dc31a",
    "papermill": {
     "duration": 0.024835,
     "end_time": "2025-02-11T19:45:44.219997",
     "exception": false,
     "start_time": "2025-02-11T19:45:44.195162",
     "status": "completed"
    },
    "tags": []
   },
   "outputs": [
    {
     "data": {
      "text/plain": [
       "array([[4, 2],\n",
       "       [1, 2]])"
      ]
     },
     "execution_count": 52,
     "metadata": {},
     "output_type": "execute_result"
    }
   ],
   "source": [
    "a = [[1, 0], [0, 1]]\n",
    "b = [[4, 1], [2, 2]]\n",
    "np.inner(a, b)\n"
   ]
  },
  {
   "cell_type": "code",
   "execution_count": 53,
   "id": "12fa9723",
   "metadata": {
    "execution": {
     "iopub.execute_input": "2025-02-11T19:45:44.254980Z",
     "iopub.status.busy": "2025-02-11T19:45:44.254660Z",
     "iopub.status.idle": "2025-02-11T19:45:44.262017Z",
     "shell.execute_reply": "2025-02-11T19:45:44.260638Z"
    },
    "id": "VJiIXYUSIkQ6",
    "outputId": "1883724d-6b56-4ca4-9b08-065adfd4ca68",
    "papermill": {
     "duration": 0.027582,
     "end_time": "2025-02-11T19:45:44.264094",
     "exception": false,
     "start_time": "2025-02-11T19:45:44.236512",
     "status": "completed"
    },
    "tags": []
   },
   "outputs": [
    {
     "data": {
      "text/plain": [
       "array([[4, 1],\n",
       "       [2, 2]])"
      ]
     },
     "execution_count": 53,
     "metadata": {},
     "output_type": "execute_result"
    }
   ],
   "source": [
    "a = [[1, 0], [0, 1]]\n",
    "b = [[4, 1], [2, 2]]\n",
    "np.matmul(a, b)\n"
   ]
  },
  {
   "cell_type": "code",
   "execution_count": 54,
   "id": "f8c65023",
   "metadata": {
    "execution": {
     "iopub.execute_input": "2025-02-11T19:45:44.312451Z",
     "iopub.status.busy": "2025-02-11T19:45:44.311825Z",
     "iopub.status.idle": "2025-02-11T19:45:44.320168Z",
     "shell.execute_reply": "2025-02-11T19:45:44.318855Z"
    },
    "id": "H3HeID9lIsHP",
    "outputId": "f09b95cf-fd6e-48d7-cf0f-5bcfafb0f583",
    "papermill": {
     "duration": 0.035944,
     "end_time": "2025-02-11T19:45:44.322626",
     "exception": false,
     "start_time": "2025-02-11T19:45:44.286682",
     "status": "completed"
    },
    "tags": []
   },
   "outputs": [
    {
     "data": {
      "text/plain": [
       "array([[31, 18],\n",
       "       [12,  7]])"
      ]
     },
     "execution_count": 54,
     "metadata": {},
     "output_type": "execute_result"
    }
   ],
   "source": [
    "a = [[5, 3], [2, 1]]\n",
    "np.linalg.matrix_power(a,2)\n"
   ]
  },
  {
   "cell_type": "code",
   "execution_count": 55,
   "id": "1498a3ee",
   "metadata": {
    "execution": {
     "iopub.execute_input": "2025-02-11T19:45:44.363106Z",
     "iopub.status.busy": "2025-02-11T19:45:44.362755Z",
     "iopub.status.idle": "2025-02-11T19:45:44.402098Z",
     "shell.execute_reply": "2025-02-11T19:45:44.400683Z"
    },
    "id": "_4AWAWbyIzAp",
    "papermill": {
     "duration": 0.05833,
     "end_time": "2025-02-11T19:45:44.404108",
     "exception": false,
     "start_time": "2025-02-11T19:45:44.345778",
     "status": "completed"
    },
    "tags": []
   },
   "outputs": [],
   "source": [
    "b = [[4, 1], [2, 2]]\n",
    "u,s,v=np.linalg.svd(b)\n"
   ]
  },
  {
   "cell_type": "code",
   "execution_count": 56,
   "id": "486bec28",
   "metadata": {
    "execution": {
     "iopub.execute_input": "2025-02-11T19:45:44.448117Z",
     "iopub.status.busy": "2025-02-11T19:45:44.447758Z",
     "iopub.status.idle": "2025-02-11T19:45:44.459393Z",
     "shell.execute_reply": "2025-02-11T19:45:44.458127Z"
    },
    "id": "B3YRUz3cJcgE",
    "outputId": "c476e8df-a631-4c53-ec24-7b53e6248e1c",
    "papermill": {
     "duration": 0.037167,
     "end_time": "2025-02-11T19:45:44.461137",
     "exception": false,
     "start_time": "2025-02-11T19:45:44.423970",
     "status": "completed"
    },
    "tags": []
   },
   "outputs": [
    {
     "name": "stdout",
     "output_type": "stream",
     "text": [
      "[4.73205081 1.26794919] [[ 0.80689822 -0.34372377]\n",
      " [ 0.59069049  0.9390708 ]]\n"
     ]
    }
   ],
   "source": [
    "b = [[4, 1], [2, 2]]\n",
    "value,vector=np.linalg.eig(b)\n",
    "print(value,vector)"
   ]
  },
  {
   "cell_type": "code",
   "execution_count": 57,
   "id": "4f5c1867",
   "metadata": {
    "execution": {
     "iopub.execute_input": "2025-02-11T19:45:44.506076Z",
     "iopub.status.busy": "2025-02-11T19:45:44.505187Z",
     "iopub.status.idle": "2025-02-11T19:45:44.515548Z",
     "shell.execute_reply": "2025-02-11T19:45:44.513850Z"
    },
    "id": "9tYjv67aJgsx",
    "outputId": "09b25d10-7baf-4046-c3a1-7c95379edb17",
    "papermill": {
     "duration": 0.032522,
     "end_time": "2025-02-11T19:45:44.518289",
     "exception": false,
     "start_time": "2025-02-11T19:45:44.485767",
     "status": "completed"
    },
    "tags": []
   },
   "outputs": [
    {
     "name": "stdout",
     "output_type": "stream",
     "text": [
      "5.0\n"
     ]
    }
   ],
   "source": [
    "b = [[4, 1], [2, 2]]\n",
    "value=np.linalg.norm(b)\n",
    "print(value)"
   ]
  },
  {
   "cell_type": "code",
   "execution_count": 58,
   "id": "2c7afca4",
   "metadata": {
    "execution": {
     "iopub.execute_input": "2025-02-11T19:45:44.577757Z",
     "iopub.status.busy": "2025-02-11T19:45:44.577059Z",
     "iopub.status.idle": "2025-02-11T19:45:44.585955Z",
     "shell.execute_reply": "2025-02-11T19:45:44.584544Z"
    },
    "id": "IaV-1C7PJuPr",
    "outputId": "a13a89a6-68a3-487d-b9db-e0e5c3735630",
    "papermill": {
     "duration": 0.045042,
     "end_time": "2025-02-11T19:45:44.587903",
     "exception": false,
     "start_time": "2025-02-11T19:45:44.542861",
     "status": "completed"
    },
    "tags": []
   },
   "outputs": [
    {
     "name": "stdout",
     "output_type": "stream",
     "text": [
      "1\n"
     ]
    }
   ],
   "source": [
    "b = [[4, 1], [0, 0]]\n",
    "value=np.linalg.matrix_rank(b)\n",
    "print(value)"
   ]
  },
  {
   "cell_type": "code",
   "execution_count": 59,
   "id": "dcfa0fd2",
   "metadata": {
    "execution": {
     "iopub.execute_input": "2025-02-11T19:45:44.636347Z",
     "iopub.status.busy": "2025-02-11T19:45:44.635909Z",
     "iopub.status.idle": "2025-02-11T19:45:44.647686Z",
     "shell.execute_reply": "2025-02-11T19:45:44.646365Z"
    },
    "id": "wwF4NI6XJ3D9",
    "outputId": "f151a421-8f48-4b7f-ce42-aa8313c0a888",
    "papermill": {
     "duration": 0.031181,
     "end_time": "2025-02-11T19:45:44.649531",
     "exception": false,
     "start_time": "2025-02-11T19:45:44.618350",
     "status": "completed"
    },
    "tags": []
   },
   "outputs": [
    {
     "name": "stdout",
     "output_type": "stream",
     "text": [
      "[-1.  1.]\n"
     ]
    }
   ],
   "source": [
    "a = np.array([[1, 2], [3, 5]])\n",
    "b = np.array([1, 2])\n",
    "x = np.linalg.solve(a, b)\n",
    "print(x)"
   ]
  },
  {
   "cell_type": "code",
   "execution_count": 60,
   "id": "3a31d3fe",
   "metadata": {
    "execution": {
     "iopub.execute_input": "2025-02-11T19:45:44.684858Z",
     "iopub.status.busy": "2025-02-11T19:45:44.684443Z",
     "iopub.status.idle": "2025-02-11T19:45:44.690569Z",
     "shell.execute_reply": "2025-02-11T19:45:44.689533Z"
    },
    "id": "gAsEXHVHKWuw",
    "outputId": "ea2c98fe-a7d6-4019-b6b3-433f4e908995",
    "papermill": {
     "duration": 0.025535,
     "end_time": "2025-02-11T19:45:44.692443",
     "exception": false,
     "start_time": "2025-02-11T19:45:44.666908",
     "status": "completed"
    },
    "tags": []
   },
   "outputs": [
    {
     "name": "stdout",
     "output_type": "stream",
     "text": [
      "[[-5.  2.]\n",
      " [ 3. -1.]]\n"
     ]
    }
   ],
   "source": [
    "a = np.array([[1, 2], [3, 5]])\n",
    "x = np.linalg.inv(a)\n",
    "print(x)"
   ]
  },
  {
   "cell_type": "code",
   "execution_count": 61,
   "id": "195ee05c",
   "metadata": {
    "execution": {
     "iopub.execute_input": "2025-02-11T19:45:44.727668Z",
     "iopub.status.busy": "2025-02-11T19:45:44.727265Z",
     "iopub.status.idle": "2025-02-11T19:45:44.733632Z",
     "shell.execute_reply": "2025-02-11T19:45:44.732467Z"
    },
    "id": "4yV5KXtPKdAB",
    "outputId": "dbfb021b-11bd-479c-b672-5cf8c5738c43",
    "papermill": {
     "duration": 0.026137,
     "end_time": "2025-02-11T19:45:44.735517",
     "exception": false,
     "start_time": "2025-02-11T19:45:44.709380",
     "status": "completed"
    },
    "tags": []
   },
   "outputs": [
    {
     "data": {
      "text/plain": [
       "2.5"
      ]
     },
     "execution_count": 61,
     "metadata": {},
     "output_type": "execute_result"
    }
   ],
   "source": [
    "a = np.array([[1, 2], [3, 5]])\n",
    "np.median(a)\n"
   ]
  },
  {
   "cell_type": "code",
   "execution_count": 62,
   "id": "464a0d8e",
   "metadata": {
    "execution": {
     "iopub.execute_input": "2025-02-11T19:45:44.770575Z",
     "iopub.status.busy": "2025-02-11T19:45:44.770089Z",
     "iopub.status.idle": "2025-02-11T19:45:44.776757Z",
     "shell.execute_reply": "2025-02-11T19:45:44.775738Z"
    },
    "id": "qXU67e5RKx5t",
    "outputId": "24c5c4d4-5eee-48ea-b9ce-3820a363c4df",
    "papermill": {
     "duration": 0.025881,
     "end_time": "2025-02-11T19:45:44.778408",
     "exception": false,
     "start_time": "2025-02-11T19:45:44.752527",
     "status": "completed"
    },
    "tags": []
   },
   "outputs": [
    {
     "data": {
      "text/plain": [
       "4.0"
      ]
     },
     "execution_count": 62,
     "metadata": {},
     "output_type": "execute_result"
    }
   ],
   "source": [
    "np.average(np.arange(1, 11), weights=np.arange(10, 0, -1))\n"
   ]
  },
  {
   "cell_type": "code",
   "execution_count": 63,
   "id": "5024855c",
   "metadata": {
    "execution": {
     "iopub.execute_input": "2025-02-11T19:45:44.815187Z",
     "iopub.status.busy": "2025-02-11T19:45:44.814843Z",
     "iopub.status.idle": "2025-02-11T19:45:44.821395Z",
     "shell.execute_reply": "2025-02-11T19:45:44.820327Z"
    },
    "id": "7o6gtv3rK7jJ",
    "outputId": "0e6fda6d-cfb3-458f-85e7-a89ab4e4ba9d",
    "papermill": {
     "duration": 0.026825,
     "end_time": "2025-02-11T19:45:44.823080",
     "exception": false,
     "start_time": "2025-02-11T19:45:44.796255",
     "status": "completed"
    },
    "tags": []
   },
   "outputs": [
    {
     "data": {
      "text/plain": [
       "2.5"
      ]
     },
     "execution_count": 63,
     "metadata": {},
     "output_type": "execute_result"
    }
   ],
   "source": [
    "a = np.array([[1, 2], [3, 4]])\n",
    "np.mean(a)\n"
   ]
  },
  {
   "cell_type": "code",
   "execution_count": 64,
   "id": "b2ae3f4d",
   "metadata": {
    "execution": {
     "iopub.execute_input": "2025-02-11T19:45:44.859312Z",
     "iopub.status.busy": "2025-02-11T19:45:44.858951Z",
     "iopub.status.idle": "2025-02-11T19:45:44.865523Z",
     "shell.execute_reply": "2025-02-11T19:45:44.864510Z"
    },
    "id": "EJOq4mVjK75B",
    "outputId": "fbf37c42-0512-4bc2-df40-09bc1132f278",
    "papermill": {
     "duration": 0.026949,
     "end_time": "2025-02-11T19:45:44.867053",
     "exception": false,
     "start_time": "2025-02-11T19:45:44.840104",
     "status": "completed"
    },
    "tags": []
   },
   "outputs": [
    {
     "data": {
      "text/plain": [
       "1.479019945774904"
      ]
     },
     "execution_count": 64,
     "metadata": {},
     "output_type": "execute_result"
    }
   ],
   "source": [
    "a = np.array([[1, 2], [3, 5]])\n",
    "np.std(a)\n"
   ]
  },
  {
   "cell_type": "code",
   "execution_count": 65,
   "id": "3c186161",
   "metadata": {
    "execution": {
     "iopub.execute_input": "2025-02-11T19:45:44.903350Z",
     "iopub.status.busy": "2025-02-11T19:45:44.902923Z",
     "iopub.status.idle": "2025-02-11T19:45:44.909588Z",
     "shell.execute_reply": "2025-02-11T19:45:44.908536Z"
    },
    "id": "2915m_afK7_i",
    "outputId": "5ca32502-d96b-464c-d3db-8c6bf78153de",
    "papermill": {
     "duration": 0.026836,
     "end_time": "2025-02-11T19:45:44.911231",
     "exception": false,
     "start_time": "2025-02-11T19:45:44.884395",
     "status": "completed"
    },
    "tags": []
   },
   "outputs": [
    {
     "data": {
      "text/plain": [
       "2.1875"
      ]
     },
     "execution_count": 65,
     "metadata": {},
     "output_type": "execute_result"
    }
   ],
   "source": [
    "a = np.array([[1, 2], [3, 5]])\n",
    "np.var(a)\n"
   ]
  },
  {
   "cell_type": "code",
   "execution_count": 66,
   "id": "6a0c9c0a",
   "metadata": {
    "execution": {
     "iopub.execute_input": "2025-02-11T19:45:44.946916Z",
     "iopub.status.busy": "2025-02-11T19:45:44.946554Z",
     "iopub.status.idle": "2025-02-11T19:45:44.959724Z",
     "shell.execute_reply": "2025-02-11T19:45:44.958601Z"
    },
    "id": "o7IIKge5LPkE",
    "outputId": "121b8b1e-c823-43f8-80c6-92daf543940a",
    "papermill": {
     "duration": 0.032742,
     "end_time": "2025-02-11T19:45:44.961489",
     "exception": false,
     "start_time": "2025-02-11T19:45:44.928747",
     "status": "completed"
    },
    "tags": []
   },
   "outputs": [
    {
     "data": {
      "text/plain": [
       "array([[1., 1.],\n",
       "       [1., 1.]])"
      ]
     },
     "execution_count": 66,
     "metadata": {},
     "output_type": "execute_result"
    }
   ],
   "source": [
    "a = np.array([[1, 2], [3, 5]])\n",
    "np.corrcoef(a)\n"
   ]
  },
  {
   "cell_type": "code",
   "execution_count": 67,
   "id": "92d7a504",
   "metadata": {
    "execution": {
     "iopub.execute_input": "2025-02-11T19:45:44.997637Z",
     "iopub.status.busy": "2025-02-11T19:45:44.997165Z",
     "iopub.status.idle": "2025-02-11T19:45:45.004189Z",
     "shell.execute_reply": "2025-02-11T19:45:45.003144Z"
    },
    "id": "MnoyBTNQK8JZ",
    "outputId": "a696d8ab-a5e4-4275-f15d-df8d17c9f97c",
    "papermill": {
     "duration": 0.027047,
     "end_time": "2025-02-11T19:45:45.005995",
     "exception": false,
     "start_time": "2025-02-11T19:45:44.978948",
     "status": "completed"
    },
    "tags": []
   },
   "outputs": [
    {
     "data": {
      "text/plain": [
       "array([[0.5, 1. ],\n",
       "       [1. , 2. ]])"
      ]
     },
     "execution_count": 67,
     "metadata": {},
     "output_type": "execute_result"
    }
   ],
   "source": [
    "a = np.array([[1, 2], [3, 5]])\n",
    "np.cov(a)\n"
   ]
  },
  {
   "cell_type": "code",
   "execution_count": 68,
   "id": "c68284b2",
   "metadata": {
    "execution": {
     "iopub.execute_input": "2025-02-11T19:45:45.042989Z",
     "iopub.status.busy": "2025-02-11T19:45:45.042633Z",
     "iopub.status.idle": "2025-02-11T19:45:45.049488Z",
     "shell.execute_reply": "2025-02-11T19:45:45.048410Z"
    },
    "id": "-RMpkeMmLhGc",
    "outputId": "dc938224-fa62-4c9a-edb6-bb5e736a47c3",
    "papermill": {
     "duration": 0.027209,
     "end_time": "2025-02-11T19:45:45.051104",
     "exception": false,
     "start_time": "2025-02-11T19:45:45.023895",
     "status": "completed"
    },
    "tags": []
   },
   "outputs": [
    {
     "data": {
      "text/plain": [
       "3.5"
      ]
     },
     "execution_count": 68,
     "metadata": {},
     "output_type": "execute_result"
    }
   ],
   "source": [
    "a = np.array([[10, 7, 4], [3, 2, 1]])\n",
    "np.percentile(a, 50)\n"
   ]
  },
  {
   "cell_type": "code",
   "execution_count": 69,
   "id": "cde10ae9",
   "metadata": {
    "execution": {
     "iopub.execute_input": "2025-02-11T19:45:45.089099Z",
     "iopub.status.busy": "2025-02-11T19:45:45.088749Z",
     "iopub.status.idle": "2025-02-11T19:45:45.095830Z",
     "shell.execute_reply": "2025-02-11T19:45:45.094690Z"
    },
    "id": "eJWVyuSXLhYa",
    "outputId": "ed2dd18c-8a88-43bc-f2d5-0c8d594059e8",
    "papermill": {
     "duration": 0.02868,
     "end_time": "2025-02-11T19:45:45.097501",
     "exception": false,
     "start_time": "2025-02-11T19:45:45.068821",
     "status": "completed"
    },
    "tags": []
   },
   "outputs": [
    {
     "data": {
      "text/plain": [
       "1.025"
      ]
     },
     "execution_count": 69,
     "metadata": {},
     "output_type": "execute_result"
    }
   ],
   "source": [
    "a = np.array([[10, 7, 4], [3, 2, 1]])\n",
    "np.percentile(a, 0.5)\n"
   ]
  }
 ],
 "metadata": {
  "colab": {
   "provenance": []
  },
  "kaggle": {
   "accelerator": "none",
   "dataSources": [],
   "isGpuEnabled": false,
   "isInternetEnabled": true,
   "language": "python",
   "sourceType": "notebook"
  },
  "kernelspec": {
   "display_name": "Python 3",
   "name": "python3"
  },
  "language_info": {
   "codemirror_mode": {
    "name": "ipython",
    "version": 3
   },
   "file_extension": ".py",
   "mimetype": "text/x-python",
   "name": "python",
   "nbconvert_exporter": "python",
   "pygments_lexer": "ipython3",
   "version": "3.10.12"
  },
  "papermill": {
   "default_parameters": {},
   "duration": 7.077393,
   "end_time": "2025-02-11T19:45:45.637350",
   "environment_variables": {},
   "exception": null,
   "input_path": "__notebook__.ipynb",
   "output_path": "__notebook__.ipynb",
   "parameters": {},
   "start_time": "2025-02-11T19:45:38.559957",
   "version": "2.6.0"
  }
 },
 "nbformat": 4,
 "nbformat_minor": 5
}
